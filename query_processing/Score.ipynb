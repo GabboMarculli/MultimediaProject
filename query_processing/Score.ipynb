{
 "cells": [
  {
   "cell_type": "code",
   "execution_count": null,
   "id": "9fa494f1-e4be-4f7d-9e0c-47233d81cf53",
   "metadata": {},
   "outputs": [],
   "source": [
    "# TODO: FAI LE IMPORT\n",
    "\n",
    "def compute_BM25_term(doc_index: doc_index.DocumentIndex, doc_id: int, term_freq:int, k1:float = 1.6, b:float = 0.75)-> float:\n",
    "    if not isinstance(doc_index, doc_index.DocumentIndex) or not isinstance(doc_id, int) or not isinstance(term_freq, int):\n",
    "        raise ValueError(\"Invalid parameters.\") \n",
    "        \n",
    "    if doc_id < 0 or term_freq < 0:\n",
    "        raise ValueError(\"doc_id and term_freq must be positive\")\n",
    "        \n",
    "    idf = compute_IDFT(doc_index.number_of_documents, term_freq)\n",
    "    avgDL = compute_avgDL(doc_index)\n",
    "    log_tf = (1 + math.log(term_freq))\n",
    "    doc_len = doc_index.get_document(doc_id).document_length\n",
    "\n",
    "    return (idf * log_tf)/(log_tf + k1 * ( (1 - b) + b * (doc_len/avgDL) ))\n",
    "\n",
    "def computer_BM25_query(query:str, doc_index: doc_index.DocumentIndex, doc_id: int, idf: float) -> float:\n",
    "    bm25 = 0.0\n",
    "    \n",
    "    for term in query:\n",
    "        #term_freq =  come si trova la term frequencies? bisogna recuperare la postings list dal doc_index?\n",
    "        bm25 = bm25 + compute_BM25_term(doc_index, doc_id, term_freq)\n",
    "\n",
    "    return bm25"
   ]
  }
 ],
 "metadata": {
  "kernelspec": {
   "display_name": "Python 3 (ipykernel)",
   "language": "python",
   "name": "python3"
  },
  "language_info": {
   "codemirror_mode": {
    "name": "ipython",
    "version": 3
   },
   "file_extension": ".py",
   "mimetype": "text/x-python",
   "name": "python",
   "nbconvert_exporter": "python",
   "pygments_lexer": "ipython3",
   "version": "3.11.6"
  }
 },
 "nbformat": 4,
 "nbformat_minor": 5
}
