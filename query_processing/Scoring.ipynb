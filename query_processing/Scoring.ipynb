{
 "cells": [
  {
   "cell_type": "code",
   "execution_count": 1,
   "id": "09fa3d91-a2af-49c5-93b5-12f490efe19c",
   "metadata": {},
   "outputs": [
    {
     "name": "stdout",
     "output_type": "stream",
     "text": [
      "importing Jupyter notebook from C:\\Users\\Davide\\IR\\Progetto\\query_processing\\..\\structures\\DocumentIndex.ipynb\n",
      "importing Jupyter notebook from C:\\Users\\Davide\\IR\\Progetto\\query_processing\\..\\utilities\\General_Utilities.ipynb\n",
      "importing Jupyter notebook from C:\\Users\\Davide\\IR\\Progetto\\query_processing\\..\\structures\\DocumentIndexRow.ipynb\n",
      "importing Jupyter notebook from C:\\Users\\Davide\\IR\\Progetto\\query_processing\\..\\structures\\LexiconRow.ipynb\n",
      "importing Jupyter notebook from C:\\Users\\Davide\\IR\\Progetto\\query_processing\\..\\building_data_structures\\CollectionStatistics.ipynb\n"
     ]
    }
   ],
   "source": [
    "import math\n",
    "import import_ipynb\n",
    "import sys\n",
    "sys.path.append('../')  # Go up two folders to the project root\n",
    "\n",
    "import structures.DocumentIndex as doc_ind\n",
    "import structures.LexiconRow as lex_row\n",
    "import building_data_structures.CollectionStatistics as c_s"
   ]
  },
  {
   "cell_type": "code",
   "execution_count": 3,
   "id": "9fa494f1-e4be-4f7d-9e0c-47233d81cf53",
   "metadata": {},
   "outputs": [],
   "source": [
    "class Scoring:\n",
    "    upper_bound_TF: float\n",
    "    upper_bound_DL: float\n",
    "        \n",
    "    collection_statistics:c_s\n",
    "    \n",
    "    def __init__(self,collectionStatistic:c_s):\n",
    "        self.collection_statistics=collectionStatistic\n",
    "\n",
    "    # quindi riceve la scelta e un oggetto Postin (modifica doc_id e term_freq accorpandoli dentro un oggetto Posting\n",
    "    def choose_scoring_function(self, choice: str, doc_id: int, term_freq:int):\n",
    "        return self.compute_BM25_term(doc_id, term_freq) if choice == \"bm25\" else self.compute_TFIDF()\n",
    "    \n",
    "    def compute_BM25_term(self, doc_id: int, term_freq:int, k1:float = 1.6, b:float = 0.75)-> float:\n",
    "        if not isinstance(doc_id, int) or not isinstance(term_freq, int):\n",
    "            raise ValueError(\"Invalid parameters.\") \n",
    "            \n",
    "        if doc_id < 0 or term_freq <= 0:\n",
    "            raise ValueError(\"doc_id and term_freq must be positive\")\n",
    "\n",
    "        self.c_s.collection_statistics.read_binary_mode()\n",
    "        n_doc = self.collection_statistics.num_documents\n",
    "        \n",
    "        idf = self.compute_IDFT(term_freq)\n",
    "        avgDL = lex_row.compute_avgDL(doc_index) # sistema questa (doc_index)\n",
    "        log_tf = (1 + math.log(term_freq))\n",
    "        doc_len = doc_index.get_document(doc_id).document_length # sistema questa (doc_index)\n",
    "    \n",
    "        return (idf * log_tf)/(log_tf + k1 * ( (1 - b) + b * (doc_len/avgDL) ))\n",
    "\n",
    "    def compute_IDFT(self, dft:int) -> float:\n",
    "        \"\"\"\n",
    "        Compute the inverse document frequency for a term based on the document index (doc_index) and document frequency (dft).\n",
    "    \n",
    "        Args:\n",
    "            dft: The document frequency of the term.\n",
    "        \"\"\"\n",
    "        if dft <= 0:\n",
    "            raise ValueError(\"Invalid parameters.\")\n",
    "\n",
    "        \n",
    "        number_of_documents = self.collection_statistics.num_documents\n",
    "        \n",
    "        return math.log10(number_of_documents/dft)  \n",
    "\n",
    "\n",
    "    def compute_TFIDF(self, tf: int, idf: float) -> float:\n",
    "        \"\"\"\n",
    "        Compute the TF-IDF value based on the term frequency (tf) and inverse document frequency (idf).\n",
    "        \n",
    "        Args:\n",
    "            tf: An integer representing the term frequency.\n",
    "            idf: A float representing the inverse document frequency.\n",
    "        \"\"\"\n",
    "        if not isinstance(tf, int) or not isinstance(idf, float):\n",
    "            raise ValueError(\"Invalid parameters.\")\n",
    "    \n",
    "        if tf <= 0:\n",
    "            return 0\n",
    "            \n",
    "        return (1 + math.log10(tf)) * idf\n",
    "\n",
    "    \n",
    "    '''\n",
    "    def compute_BM25_query(query:str, doc_id: int, idf: float) -> float:\n",
    "        bm25 = 0.0\n",
    "        \n",
    "        # remove duplicates\n",
    "        tokens = list(set(query.split()))\n",
    "        \n",
    "        for token in tokens:\n",
    "            #term_freq =  come si trova la term frequencies? bisogna recuperare la postings list dal doc_index?\n",
    "            bm25 = bm25 + compute_BM25_term(doc_index, doc_id, term_freq)\n",
    "    \n",
    "        return bm25\n",
    "    '''"
   ]
  },
  {
   "cell_type": "code",
   "execution_count": null,
   "id": "aa26aaf0-6136-492a-9b24-c77012bbc704",
   "metadata": {},
   "outputs": [],
   "source": []
  }
 ],
 "metadata": {
  "kernelspec": {
   "display_name": "Python 3 (ipykernel)",
   "language": "python",
   "name": "python3"
  },
  "language_info": {
   "codemirror_mode": {
    "name": "ipython",
    "version": 3
   },
   "file_extension": ".py",
   "mimetype": "text/x-python",
   "name": "python",
   "nbconvert_exporter": "python",
   "pygments_lexer": "ipython3",
   "version": "3.9.13"
  }
 },
 "nbformat": 4,
 "nbformat_minor": 5
}
