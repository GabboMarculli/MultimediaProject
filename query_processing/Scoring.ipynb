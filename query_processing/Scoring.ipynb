{
 "cells": [
  {
   "cell_type": "code",
   "execution_count": 1,
   "id": "09fa3d91-a2af-49c5-93b5-12f490efe19c",
   "metadata": {},
   "outputs": [
    {
     "name": "stdout",
     "output_type": "stream",
     "text": [
      "importing Jupyter notebook from C:\\Users\\gabri\\Documents\\GitHub\\query_processing\\..\\structures\\DocumentIndex.ipynb\n",
      "importing Jupyter notebook from C:\\Users\\gabri\\Documents\\GitHub\\query_processing\\..\\utilities\\General_Utilities.ipynb\n",
      "importing Jupyter notebook from C:\\Users\\gabri\\Documents\\GitHub\\query_processing\\..\\structures\\DocumentIndexRow.ipynb\n",
      "importing Jupyter notebook from C:\\Users\\gabri\\Documents\\GitHub\\query_processing\\..\\structures\\LexiconRow.ipynb\n",
      "importing Jupyter notebook from C:\\Users\\gabri\\Documents\\GitHub\\query_processing\\..\\building_data_structures\\CollectionStatistics.ipynb\n"
     ]
    }
   ],
   "source": [
    "import math\n",
    "import import_ipynb\n",
    "import sys\n",
    "sys.path.append('../')  # Go up two folders to the project root\n",
    "\n",
    "import structures.DocumentIndex as doc_ind\n",
    "import structures.LexiconRow as lex_row\n",
    "from building_data_structures.CollectionStatistics import  Collection_statistics\n",
    "from structures.DocumentIndexRow import DocumentIndexRow"
   ]
  },
  {
   "cell_type": "code",
   "execution_count": 2,
   "id": "9fa494f1-e4be-4f7d-9e0c-47233d81cf53",
   "metadata": {},
   "outputs": [],
   "source": [
    "DIR_DOC_INDEX=\"../building_data_structures/DOC_INDEX\"\n",
    "PATH_DOC_INDEX = \"document_index.bin\"\n",
    "\n",
    "class Scoring:\n",
    "    upper_bound_TF: float\n",
    "    upper_bound_DL: float\n",
    "    doc_index_row = DocumentIndexRow(0, \"\")\n",
    "    \n",
    "    def __init__(self,collectionStatistic: Collection_statistics):\n",
    "        self.collection_statistics=collectionStatistic\n",
    "        self.avgDL = self.collection_statistics.get_average_Document_Length()\n",
    "        #self.open_files()\n",
    "\n",
    "    def open_files(self):\n",
    "        self.file_DocIndex = open(DIR_DOC_INDEX+\"/\"+PATH_DOC_INDEX, 'rb')\n",
    "\n",
    "    def close_files(self):\n",
    "        self.file_DocIndex.close()  \n",
    "\n",
    "    def choose_scoring_function(self, choice: str, doc_id: int, term_freq:int, dft:int):\n",
    "        return self.compute_BM25_term(doc_id, term_freq) if choice == \"bm25\" else self.compute_TFIDF(term_freq, dft)\n",
    "    \n",
    "    def compute_BM25_term(self, doc_id: int, term_freq:int, k1:float = 1.6, b:float = 0.75)-> float:            \n",
    "        if doc_id < 0 or term_freq <= 0:\n",
    "            raise ValueError(\"doc_id and term_freq must be positive\")\n",
    "            \n",
    "        idf = self.compute_IDFT(term_freq)\n",
    "        log_tf = (1 + math.log(term_freq))\n",
    "        \n",
    "        self.doc_index_row.read_doc_index_row_on_disk(self.file_DocIndex, doc_id*self.doc_index_row.SIZE_DOC_INDEX_ROW)\n",
    "        doc_len = self.doc_index_row.document_length \n",
    "    \n",
    "        return (idf * log_tf)/(log_tf + k1 * ( (1 - b) + b * (doc_len/self.avgDL) ))\n",
    "\n",
    "    def compute_IDFT(self, dft:int) -> float:\n",
    "        \"\"\"\n",
    "        Compute the inverse document frequency for a term based on the document index (doc_index) and document frequency (dft).\n",
    "    \n",
    "        Args:\n",
    "            dft: The document frequency of the term.\n",
    "        \"\"\"\n",
    "        if dft <= 0:\n",
    "            raise ValueError(\"Invalid parameters.\")\n",
    "\n",
    "        return math.log10(self.collection_statistics.num_documents/dft)  \n",
    "\n",
    "\n",
    "    def compute_TFIDF(self, tf: int, dft: int) -> float:\n",
    "        \"\"\"\n",
    "        Compute the TF-IDF value based on the term frequency (tf) and inverse document frequency (idf).\n",
    "        \n",
    "        Args:\n",
    "            tf: An integer representing the term frequency.\n",
    "            idf: A float representing the inverse document frequency.\n",
    "        \"\"\"    \n",
    "        if tf <= 0:\n",
    "            return 0\n",
    "            \n",
    "        return (1 + math.log10(tf)) * self.compute_IDFT(dft)"
   ]
  },
  {
   "cell_type": "code",
   "execution_count": null,
   "id": "aa26aaf0-6136-492a-9b24-c77012bbc704",
   "metadata": {},
   "outputs": [],
   "source": []
  }
 ],
 "metadata": {
  "kernelspec": {
   "display_name": "Python 3 (ipykernel)",
   "language": "python",
   "name": "python3"
  },
  "language_info": {
   "codemirror_mode": {
    "name": "ipython",
    "version": 3
   },
   "file_extension": ".py",
   "mimetype": "text/x-python",
   "name": "python",
   "nbconvert_exporter": "python",
   "pygments_lexer": "ipython3",
   "version": "3.11.6"
  }
 },
 "nbformat": 4,
 "nbformat_minor": 5
}
