{
 "cells": [
  {
   "cell_type": "code",
   "execution_count": 1,
   "id": "b71bf0cf",
   "metadata": {},
   "outputs": [
    {
     "name": "stdout",
     "output_type": "stream",
     "text": [
      "importing Jupyter notebook from C:\\Users\\Davide\\IR\\Progetto\\structures\\..\\structures\\InvertedIndex.ipynb\n",
      "importing Jupyter notebook from C:\\Users\\Davide\\IR\\Progetto\\structures\\..\\structures\\LexiconRow.ipynb\n",
      "importing Jupyter notebook from C:\\Users\\Davide\\IR\\Progetto\\structures\\..\\structures\\DocumentIndex.ipynb\n",
      "importing Jupyter notebook from C:\\Users\\Davide\\IR\\Progetto\\structures\\..\\utilities\\General_Utilities.ipynb\n",
      "importing Jupyter notebook from C:\\Users\\Davide\\IR\\Progetto\\structures\\..\\structures\\DocumentIndexRow.ipynb\n",
      "importing Jupyter notebook from C:\\Users\\Davide\\IR\\Progetto\\structures\\..\\utilities\\Compression.ipynb\n",
      "importing Jupyter notebook from C:\\Users\\Davide\\IR\\Progetto\\structures\\..\\structures\\BlockDescriptor.ipynb\n"
     ]
    }
   ],
   "source": [
    "import os\n",
    "\n",
    "from typing import List,Iterator\n",
    "from typing import TextIO, BinaryIO\n",
    "import sys\n",
    "\n",
    "import import_ipynb\n",
    "import sys\n",
    "sys.path.append('../')  \n",
    "\n",
    "from structures.InvertedIndex import Posting,InvertedIndex\n",
    "from structures.LexiconRow import LexiconRow\n",
    "from structures.BlockDescriptor import BlockDescriptor"
   ]
  },
  {
   "cell_type": "code",
   "execution_count": 2,
   "id": "2878d88f",
   "metadata": {},
   "outputs": [],
   "source": [
    "class Posting_List_Reader:\n",
    "    \n",
    "    lexicon_elem:LexiconRow\n",
    "        \n",
    "    __block_descriptors:List[BlockDescriptor]\n",
    "    __posting_list:Iterator[Posting]\n",
    "    \n",
    "    file_doc_ids:BinaryIO\n",
    "    file_freqs: BinaryIO\n",
    "    file_blocks: BinaryIO\n",
    "    compression_mode: bool\n",
    "        \n",
    "    __block_index:int\n",
    "    \n",
    "    __current_posting: Posting\n",
    "    \n",
    "    def __init__(self,lexiconRow:LexiconRow,compression_mode:bool,file_doc_ids:BinaryIO,file_freqs:BinaryIO,file_blocks:BinaryIO):\n",
    "        \n",
    "        self.lexicon_elem=lexiconRow\n",
    "        \n",
    "        self.compression_mode=compression_mode\n",
    "        \n",
    "        self.file_doc_ids=file_doc_ids\n",
    "        self.file_freqs=file_freqs\n",
    "        self.file_blocks=file_blocks\n",
    "        self.__current_posting=None\n",
    "        \n",
    "        self.__block_descriptors=[]\n",
    "        self.__posting_list=iter([])\n",
    "         \n",
    "        for i in range(0,self.lexicon_elem.numBlocks):\n",
    "            block=BlockDescriptor()\n",
    "            block.read_block_descriptor_on_disk_from_opened_file(self.file_blocks,block.SIZE_BLOCK_DESCRIPTOR*i)\n",
    "            self.__block_descriptors.append(block)\n",
    "                 \n",
    "        self.__block_index=-1\n",
    "    \n",
    "    def __iter__(self):\n",
    "        return self\n",
    " \n",
    "    def __update_posting_list__(self):\n",
    "        \n",
    "        current_block=self.get_current_block()\n",
    "        if (current_block!=None and self.__block_index<len(self.__block_descriptors)):\n",
    "            print(\"Leggo da disco effettivamente\")\n",
    "            lista,_,_=iter(InvertedIndex.read_from_files_a_posting_list(self.file_doc_ids,\n",
    "                                                                 self.file_freqs,\n",
    "                                                                 self.compression_mode,\n",
    "                                                                 current_block.offset_doc_ids,\n",
    "                                                                 current_block.offset_freqs,\n",
    "                                                                 current_block.nr_postings,\n",
    "                                                                 current_block.doc_ids_bytes_size,\n",
    "                                                                 current_block.freq_bytes_size,\n",
    "                                                                 current_block.min_doc_id\n",
    "                                                            ))\n",
    "            self.__posting_list=iter(lista)\n",
    "            \n",
    "    def __next__(self):\n",
    "           \n",
    "        self.__current_posting=next(self.__posting_list,None)\n",
    "        \n",
    "        if (self.__current_posting==None and self.__block_index<len(self.__block_descriptors)):\n",
    "            \n",
    "            self.__block_index+=1\n",
    "            self.__update_posting_list__()\n",
    "            self.__current_posting=next(self.__posting_list,None)\n",
    "            if (self.__current_posting==None):\n",
    "                raise StopIteration()\n",
    "        return self.__current_posting\n",
    "    \n",
    "    \n",
    "    def get_current_block(self):\n",
    "        if (self.__block_index<0 or self.__block_index>=len(self.__block_descriptors)):\n",
    "            return None\n",
    "        return self.__block_descriptors[self.__block_index]\n",
    "    \n",
    "    def get_current_posting(self):\n",
    "        return self.__current_posting\n",
    "\n",
    "    def nextGEQ(self, doc_id: int):\n",
    "        # flag to check if the block has changed\n",
    "        block_changed = False\n",
    "\n",
    "        # move to the block with max_doc_id >= doc_id\n",
    "        # current block is None only if it's the first read\n",
    "        while self.get_current_block() is None or self.get_current_block().max_doc_id < doc_id:\n",
    "            # end of list, return None\n",
    "            if self.__block_index >= len(self.__block_descriptors) - 1:\n",
    "                self.__current_posting = None\n",
    "                return None\n",
    "\n",
    "            self.__block_index += 1\n",
    "            self.__update_posting_list__()\n",
    "            block_changed = True\n",
    "\n",
    "        # block changed, load postings and update iterator\n",
    "        if block_changed:\n",
    "            # remove previous postings\n",
    "            self.__current_posting = next(self.__posting_list, None)\n",
    "        \n",
    "        # move to the first posting greater or equal then docid and return it\n",
    "        while self.__current_posting is not None and self.__current_posting.get_docid() < docid:\n",
    "            self.__current_posting = next(self.__posting_list, None)\n",
    "        \n",
    "        return self.__current_posting\n",
    "          "
   ]
  },
  {
   "cell_type": "code",
   "execution_count": 3,
   "id": "b3e3228a",
   "metadata": {},
   "outputs": [],
   "source": [
    "# DIR_TEMP_FOLDER=\"TEMP\"\n",
    "# DIR_TEMP_DOC_ID=\"DOC_ID_TEMP\"\n",
    "# DIR_TEMP_FREQ=\"FREQ_TEMP\"\n",
    "# DIR_TEMP_LEXICON=\"LEXICON_TEMP\"\n",
    "\n",
    "# DIR_LEXICON=\"../building_data_structures/LEXICON\"\n",
    "# DIR_DOC_INDEX=\"../building_data_structures/DOC_INDEX\"\n",
    "# DIR_INVERTED_INDEX=\"../building_data_structures/INV_INDEX\"\n",
    "\n",
    "# PATH_FINAL_LEXICON=\"lexicon.bin\"\n",
    "# PATH_FINAL_DOC_IDS=\"doc_ids.bin\"\n",
    "# PATH_FINAL_FREQ=\"freq.bin\"\n",
    "# PATH_FINAL_BLOCK_DESCRIPTOR=\"block_descriptors.bin\"\n",
    "# PATH_COLLECTION_STATISTICS=\"collection_statistics.txt\"\n",
    "\n",
    "# PATH_FINAL_INVERTED_INDEX_DEBUG=\"inverted_index.txt\"\n",
    "# PATH_FINAL_LEXICON_DEBUG=\"lexicon.txt\"\n",
    "# PATH_FINAL_DOCUMENT_INDEX=\"document_index.txt\""
   ]
  },
  {
   "cell_type": "code",
   "execution_count": 4,
   "id": "a4ef945b",
   "metadata": {},
   "outputs": [],
   "source": [
    "# file_lex=open(DIR_LEXICON+\"/\"+PATH_FINAL_LEXICON, 'rb') \n",
    "# file_doc=open(DIR_INVERTED_INDEX+\"/\"+PATH_FINAL_DOC_IDS, 'rb') \n",
    "# file_freq=open(DIR_INVERTED_INDEX+\"/\"+PATH_FINAL_FREQ, 'rb')\n",
    "# file_blocks=open(DIR_INVERTED_INDEX+\"/\"+PATH_FINAL_BLOCK_DESCRIPTOR, 'rb')\n",
    "\n",
    "\n",
    "\n",
    "# lexTerm=LexiconRow(\"\",0)\n",
    "# lexTerm.read_lexicon_row_on_disk_from_opened_file(file_lex,0)\n",
    "\n",
    "# posting_reader=Posting_List_Reader(lexTerm,False,file_doc,file_freq,file_blocks)\n",
    "\n",
    "\n"
   ]
  },
  {
   "cell_type": "code",
   "execution_count": 9,
   "id": "db33c975",
   "metadata": {},
   "outputs": [
    {
     "name": "stdout",
     "output_type": "stream",
     "text": [
      "None\n",
      "None\n",
      "None\n",
      "None\n",
      "None\n",
      "None\n",
      "None\n",
      "None\n",
      "None\n",
      "None\n",
      "None\n",
      "None\n"
     ]
    }
   ],
   "source": [
    "# for i in range (12):\n",
    "#     ris=next(posting_reader)\n",
    "#     print(ris)"
   ]
  },
  {
   "cell_type": "code",
   "execution_count": 5,
   "id": "4daf9cea",
   "metadata": {},
   "outputs": [
    {
     "name": "stdout",
     "output_type": "stream",
     "text": [
      "Leggo da disco effettivamente\n",
      "Posting(doc_id=3, frequency=2)\n",
      "Posting(doc_id=5, frequency=2)\n",
      "Posting(doc_id=9, frequency=1)\n",
      "Posting(doc_id=10, frequency=1)\n",
      "Leggo da disco effettivamente\n",
      "Posting(doc_id=14, frequency=1)\n",
      "Posting(doc_id=17, frequency=1)\n",
      "Posting(doc_id=21, frequency=1)\n",
      "Posting(doc_id=25, frequency=1)\n",
      "Leggo da disco effettivamente\n",
      "Posting(doc_id=27, frequency=1)\n",
      "Posting(doc_id=36, frequency=1)\n",
      "Posting(doc_id=51, frequency=1)\n",
      "Posting(doc_id=56, frequency=1)\n"
     ]
    }
   ],
   "source": [
    "# for obj in posting_reader:\n",
    "#     print (obj)"
   ]
  },
  {
   "cell_type": "code",
   "execution_count": 6,
   "id": "2c6dd59f",
   "metadata": {},
   "outputs": [
    {
     "data": {
      "text/plain": [
       "[Posting(doc_id=14, frequency=1),\n",
       " Posting(doc_id=17, frequency=1),\n",
       " Posting(doc_id=21, frequency=1),\n",
       " Posting(doc_id=25, frequency=1)]"
      ]
     },
     "execution_count": 6,
     "metadata": {},
     "output_type": "execute_result"
    }
   ],
   "source": [
    "# posting_reader.get_current_posting()"
   ]
  },
  {
   "cell_type": "code",
   "execution_count": 6,
   "id": "6e260be8",
   "metadata": {},
   "outputs": [],
   "source": [
    "# file_lex.close()\n",
    "# file_doc.close()\n",
    "# file_freq.close()\n",
    "# file_blocks.close()"
   ]
  },
  {
   "cell_type": "code",
   "execution_count": 4,
   "id": "5b0be8ec",
   "metadata": {},
   "outputs": [],
   "source": [
    "# iterator=iter(posting_list)"
   ]
  },
  {
   "cell_type": "code",
   "execution_count": 7,
   "id": "b901aa88",
   "metadata": {},
   "outputs": [
    {
     "name": "stdout",
     "output_type": "stream",
     "text": [
      "None\n"
     ]
    }
   ],
   "source": [
    "# a=next(iterator,None)\n",
    "# print(a)"
   ]
  },
  {
   "cell_type": "code",
   "execution_count": 10,
   "id": "85755447",
   "metadata": {},
   "outputs": [
    {
     "name": "stdout",
     "output_type": "stream",
     "text": [
      "\n",
      "\n",
      "0.07746315002441406\n"
     ]
    }
   ],
   "source": [
    "# import time\n",
    "\n",
    "# start_time = time.time()\n",
    "# #my_iter = iter(range(1000000))\n",
    "# my_iter=list(range(1000000))\n",
    "# for x in my_iter:\n",
    "#     x=x+1\n",
    "# end_time=time.time()\n",
    "\n",
    "# print(\"\\n\\n\"+str(end_time-start_time))"
   ]
  },
  {
   "cell_type": "code",
   "execution_count": 9,
   "id": "900dff8c",
   "metadata": {},
   "outputs": [
    {
     "data": {
      "text/plain": [
       "range(0, 100000)"
      ]
     },
     "execution_count": 9,
     "metadata": {},
     "output_type": "execute_result"
    }
   ],
   "source": [
    "# range(100000)"
   ]
  },
  {
   "cell_type": "code",
   "execution_count": 3,
   "id": "b994011f",
   "metadata": {},
   "outputs": [],
   "source": [
    "# aa=iter([Posting(1,2),Posting(2,3),Posting(3,4)])"
   ]
  },
  {
   "cell_type": "code",
   "execution_count": 9,
   "id": "5601b549",
   "metadata": {},
   "outputs": [
    {
     "ename": "StopIteration",
     "evalue": "",
     "output_type": "error",
     "traceback": [
      "\u001b[1;31m---------------------------------------------------------------------------\u001b[0m",
      "\u001b[1;31mStopIteration\u001b[0m                             Traceback (most recent call last)",
      "\u001b[1;32m~\\AppData\\Local\\Temp\\ipykernel_24156\\3779343574.py\u001b[0m in \u001b[0;36m<module>\u001b[1;34m\u001b[0m\n\u001b[1;32m----> 1\u001b[1;33m \u001b[0mnext\u001b[0m\u001b[1;33m(\u001b[0m\u001b[0maa\u001b[0m\u001b[1;33m)\u001b[0m\u001b[1;33m\u001b[0m\u001b[1;33m\u001b[0m\u001b[0m\n\u001b[0m",
      "\u001b[1;31mStopIteration\u001b[0m: "
     ]
    }
   ],
   "source": [
    "# next(aa)"
   ]
  },
  {
   "cell_type": "code",
   "execution_count": 11,
   "id": "cecd7700",
   "metadata": {},
   "outputs": [
    {
     "ename": "NameError",
     "evalue": "name 'getsizeof' is not defined",
     "output_type": "error",
     "traceback": [
      "\u001b[1;31m---------------------------------------------------------------------------\u001b[0m",
      "\u001b[1;31mNameError\u001b[0m                                 Traceback (most recent call last)",
      "\u001b[1;32m~\\AppData\\Local\\Temp\\ipykernel_19212\\3388380464.py\u001b[0m in \u001b[0;36m<module>\u001b[1;34m\u001b[0m\n\u001b[1;32m----> 1\u001b[1;33m \u001b[0mgetsizeof\u001b[0m\u001b[1;33m(\u001b[0m\u001b[0mlist\u001b[0m\u001b[1;33m(\u001b[0m\u001b[0mrange\u001b[0m\u001b[1;33m(\u001b[0m\u001b[1;36m1000000\u001b[0m\u001b[1;33m)\u001b[0m\u001b[1;33m)\u001b[0m\u001b[1;33m)\u001b[0m\u001b[1;33m\u001b[0m\u001b[1;33m\u001b[0m\u001b[0m\n\u001b[0m",
      "\u001b[1;31mNameError\u001b[0m: name 'getsizeof' is not defined"
     ]
    }
   ],
   "source": [
    "# getsizeof(list(range(1000000)))"
   ]
  },
  {
   "cell_type": "code",
   "execution_count": 12,
   "id": "68dbd171",
   "metadata": {},
   "outputs": [],
   "source": [
    "# # Get the byte occupancy\n",
    "# byte_size_list = sys.getsizeof(list(range(1000000)))\n",
    "# byte_size_iter = sys.getsizeof(iter(range(1000000)))"
   ]
  },
  {
   "cell_type": "code",
   "execution_count": 38,
   "id": "47e950ee",
   "metadata": {},
   "outputs": [
    {
     "name": "stdout",
     "output_type": "stream",
     "text": [
      "8000056 32\n"
     ]
    }
   ],
   "source": [
    "# print(byte_size_list,byte_size_iter)"
   ]
  },
  {
   "cell_type": "code",
   "execution_count": 19,
   "id": "d6d48b0d",
   "metadata": {},
   "outputs": [
    {
     "name": "stdout",
     "output_type": "stream",
     "text": [
      "List of 10 000 000 integers has been saved to integer_list.txt\n"
     ]
    }
   ],
   "source": [
    "# # Generate a list of 100,000 integers\n",
    "# integer_list = [i for i in range(10000000)]\n",
    "\n",
    "# # Specify the file name\n",
    "# file_name = \"integer_list.txt\"\n",
    "\n",
    "# # Open the file in write mode\n",
    "# with open(file_name, \"w\") as file:\n",
    "#     # Write each integer to a new line\n",
    "#     for integer in integer_list:\n",
    "#         file.write(f\"{integer}\\n\")\n",
    "\n",
    "# print(f\"List of 10 000 000 integers has been saved to {file_name}\")"
   ]
  },
  {
   "cell_type": "code",
   "execution_count": 22,
   "id": "fc8a0480",
   "metadata": {},
   "outputs": [],
   "source": [
    "# def read_integer_list(file_name):\n",
    "#     \"\"\"Read a file containing integers (one per line) and return a list of integers.\"\"\"\n",
    "#     print(\"PASSO DA QUI!!\")\n",
    "#     with open(file_name, \"r\") as file:\n",
    "#         integer_list = [int(line.strip()) for line in file]\n",
    "#     print (integer_list[:10])\n",
    "#     print (len(integer_list))\n",
    "#     print (sys.getsizeof(integer_list))\n",
    "#     return integer_list\n"
   ]
  },
  {
   "cell_type": "code",
   "execution_count": 23,
   "id": "5262bf26",
   "metadata": {},
   "outputs": [
    {
     "name": "stdout",
     "output_type": "stream",
     "text": [
      "PASSO DA QUI!!\n",
      "[0, 1, 2, 3, 4, 5, 6, 7, 8, 9]\n",
      "10000000\n",
      "89095160\n",
      "Tempo necessario per popolamento al 100%\n",
      "2.8022077083587646\n",
      "Dimensione in memoria:89095160\n",
      "Tempo di accesso al 57-esimo [56] elemento: 0.0\n"
     ]
    }
   ],
   "source": [
    "# start_time = time.time()\n",
    "\n",
    "# lista_letta_da_disco=read_integer_list(\"integer_list.txt\")\n",
    "\n",
    "# end_time=time.time()\n",
    "\n",
    "# print(\"Tempo necessario per popolamento al 100%\\n\"+str(end_time-start_time))\n",
    "\n",
    "# print(\"Dimensione in memoria:\"+str(sys.getsizeof(lista_letta_da_disco)))\n",
    "\n",
    "# start_time = time.time()\n",
    "# elem=lista_letta_da_disco[56]\n",
    "# end_time=time.time()\n",
    "\n",
    "# print(\"Tempo di accesso al 57-esimo [\"+str(elem)+\"] elemento: \"+str(end_time-start_time))\n",
    "\n"
   ]
  },
  {
   "cell_type": "code",
   "execution_count": 24,
   "id": "574a944b",
   "metadata": {},
   "outputs": [
    {
     "name": "stdout",
     "output_type": "stream",
     "text": [
      "PASSO DA QUI!!\n",
      "[0, 1, 2, 3, 4, 5, 6, 7, 8, 9]\n",
      "10000000\n",
      "89095160\n",
      "Tempo necessario per popolamento al 100%\n",
      " 2.7390878200531006\n",
      "Dimensione in memoria:48\n",
      "Tempo di accesso al 57-esimo [56] elemento: 0.0009677410125732422\n"
     ]
    }
   ],
   "source": [
    "# start_time = time.time()\n",
    "\n",
    "# lista_letta_da_disco=iter(read_integer_list(\"integer_list.txt\"))\n",
    "\n",
    "# end_time=time.time()\n",
    "\n",
    "# print(\"Tempo necessario per popolamento al 100%\\n \"+str(end_time-start_time))\n",
    "\n",
    "# print(\"Dimensione in memoria:\"+str(sys.getsizeof(lista_letta_da_disco)))\n",
    "\n",
    "# start_time = time.time()\n",
    "# for i in range(0,57):\n",
    "#     elem=next(lista_letta_da_disco)\n",
    "# end_time=time.time()\n",
    "    \n",
    "# print(\"Tempo di accesso al 57-esimo [\"+str(elem)+\"] elemento: \"+str(end_time-start_time))\n",
    "\n"
   ]
  },
  {
   "cell_type": "code",
   "execution_count": null,
   "id": "d2483338",
   "metadata": {},
   "outputs": [],
   "source": []
  }
 ],
 "metadata": {
  "kernelspec": {
   "display_name": "Python 3 (ipykernel)",
   "language": "python",
   "name": "python3"
  },
  "language_info": {
   "codemirror_mode": {
    "name": "ipython",
    "version": 3
   },
   "file_extension": ".py",
   "mimetype": "text/x-python",
   "name": "python",
   "nbconvert_exporter": "python",
   "pygments_lexer": "ipython3",
   "version": "3.11.6"
  }
 },
 "nbformat": 4,
 "nbformat_minor": 5
}
