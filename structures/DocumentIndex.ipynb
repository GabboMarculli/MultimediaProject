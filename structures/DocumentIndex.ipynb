{
 "cells": [
  {
   "cell_type": "code",
   "execution_count": 3,
   "id": "fb161e9a-1c91-4aff-b4c6-6a1dbb028d77",
   "metadata": {},
   "outputs": [
    {
     "name": "stdout",
     "output_type": "stream",
     "text": [
      "importing Jupyter notebook from C:\\Users\\gabri\\Documents\\GitHub\\MultimediaProject\\structures\\..\\structures\\DocumentIndexRow.ipynb\n"
     ]
    }
   ],
   "source": [
    "from typing import List\n",
    "from collections import defaultdict\n",
    "import import_ipynb\n",
    "import sys\n",
    "sys.path.append('../')  # Go up two folders to the project root\n",
    "\n",
    "#from utilities import General_Utilities as Utilities\n",
    "import utilities.General_Utilities as Utilities\n",
    "import structures.DocumentIndexRow as doc_ind_row"
   ]
  },
  {
   "cell_type": "code",
   "execution_count": 4,
   "id": "b18eea55-3fde-4ced-8da0-335d8eaeaff7",
   "metadata": {},
   "outputs": [],
   "source": [
    "class DocumentIndex(Utilities.Singleton):\n",
    "    def __init__(self):\n",
    "        if self._index is None:\n",
    "            self._index = defaultdict(doc_ind_row.DocumentIndexRow)\n",
    "            self.number_of_documents = 0 \n",
    "            self.total_document_length = 0\n",
    "\n",
    "    def add_document(self, doc_id: int, text: str) -> None:\n",
    "        \"\"\"Adds a document to the document index.\"\"\"\n",
    "        if not isinstance(doc_id, int) or not isinstance(text, str):\n",
    "            raise ValueError(\"doc_id must be an integer and text must be a string.\")\n",
    "            \n",
    "        if (self.get_document(doc_id)==None):\n",
    "            self._index[doc_id]=[]\n",
    "        row = doc_ind_row.DocumentIndexRow(doc_id,text)\n",
    "        self._index[doc_id] = row\n",
    "\n",
    "        # Update the statistics about total number of documents in the document index and total document length\n",
    "        self.number_of_documents = self.number_of_documents + 1 \n",
    "        self.total_document_length = self.total_document_length + row.document_length\n",
    "             \n",
    "    def get_document(self, doc_id: int) -> doc_ind_row.DocumentIndexRow:\n",
    "        \"\"\"Fetches a row from the document index\"\"\"\n",
    "        if not isinstance(doc_id, int):\n",
    "            raise ValueError(\"doc_id must be an integer.\")\n",
    "            \n",
    "        if (doc_id in self._index):\n",
    "            return self._index[doc_id]\n",
    "        return None\n",
    "    \n",
    "    def is_empty(self) -> bool:\n",
    "        \"\"\"Check if there are no documents in the document index.\"\"\"\n",
    "        return len(self.get_document_ids()) == 0\n",
    "    \n",
    "    def get_document_ids(self) -> List[str]:\n",
    "        \"\"\"Returns all unique document IDs in the index.\"\"\"\n",
    "        return list(self._index.keys()) \n",
    "    \n",
    "    def clear_structure(self):\n",
    "        \"\"\" It clears the document index data structure.\"\"\"\n",
    "        self._index.clear()\n",
    "        #self.number_of_documents = 0\n",
    "        #self.total_document_length = 0\n",
    "    \n",
    "    def get_structure(self):\n",
    "        \"\"\"Returns the document index data structure.\"\"\"\n",
    "        return self._index\n",
    "    \n",
    "    # scrivo su disco, sul file \"file_name\" il contenuto della struttura dati \"struct\"\n",
    "    def write_document_index_to_file(self,file_name: str, struct: defaultdict) -> None:\n",
    "        \"\"\" Write to the disk, to the file 'file_name', the content of the data structure 'struct'.\"\"\"\n",
    "        with open(file_name, \"a\") as f:\n",
    "            for index, term in enumerate(struct.keys()):\n",
    "                f.write(struct[term].to_string())\n",
    "\n",
    "                if index != len(struct.keys()) - 1:\n",
    "                    f.write(\"\\n\")\n",
    "\n",
    "            f.write(\"\\n\")"
   ]
  }
 ],
 "metadata": {
  "kernelspec": {
   "display_name": "Python 3 (ipykernel)",
   "language": "python",
   "name": "python3"
  },
  "language_info": {
   "codemirror_mode": {
    "name": "ipython",
    "version": 3
   },
   "file_extension": ".py",
   "mimetype": "text/x-python",
   "name": "python",
   "nbconvert_exporter": "python",
   "pygments_lexer": "ipython3",
   "version": "3.11.6"
  }
 },
 "nbformat": 4,
 "nbformat_minor": 5
}
