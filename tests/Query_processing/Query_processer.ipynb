{
 "cells": [
  {
   "cell_type": "code",
   "execution_count": null,
   "id": "0ee92075-e218-43cf-94a3-75eb5a37aed3",
   "metadata": {},
   "outputs": [],
   "source": []
  },
  {
   "cell_type": "code",
   "execution_count": null,
   "id": "6485c60d-d86f-4438-8cf7-5bcf4853eb78",
   "metadata": {},
   "outputs": [],
   "source": [
    "def check_directories() -> None:\n",
    "    \"\"\"\n",
    "    Check the existence and non-emptiness of directories 'INV_INDEX', 'LEXICON', and 'DOCUMENT_INDEX'.\n",
    "    Print messages based on the status of each directory.\n",
    "    \n",
    "    Returns:\n",
    "        None\n",
    "    \"\"\"\n",
    "    inv_index_path = \"INV_INDEX\"\n",
    "    lexicon_path = \"LEXICON\"\n",
    "    doc_index_path = \"DOCUMENT_INDEX\"\n",
    "\n",
    "    # Check the existence and non-emptiness of the INV_INDEX folder\n",
    "    if os.path.exists(inv_index_path) and os.path.isdir(inv_index_path):\n",
    "        if not os.listdir(inv_index_path):\n",
    "            print(\"The INV_INDEX folder exists but is empty.\")\n",
    "        else:\n",
    "            print(\"The INV_INDEX folder exists and is non-empty.\")\n",
    "    else:\n",
    "        print(\"The INV_INDEX folder does not exist.\")\n",
    "\n",
    "    # Check the existence and non-emptiness of the LEXICON folder\n",
    "    if os.path.exists(lexicon_path) and os.path.isdir(lexicon_path):\n",
    "        if not os.listdir(lexicon_path):\n",
    "            print(\"The LEXICON folder exists but is empty.\")\n",
    "        else:\n",
    "            print(\"The LEXICON folder exists and is non-empty.\")\n",
    "    else:\n",
    "        print(\"The LEXICON folder does not exist.\")\n",
    "\n",
    "    # Check the existence and non-emptiness of the DOCUMENT_INDEX folder\n",
    "    if os.path.exists(doc_index_path) and os.path.isdir(doc_index_path):\n",
    "        if not os.listdir(doc_index_path):\n",
    "            print(\"The DOCUMENT_INDEX folder exists but is empty.\")\n",
    "        else:\n",
    "            print(\"The DOCUMENT_INDEX folder exists and is non-empty.\")\n",
    "    else:\n",
    "        print(\"The DOCUMENT_INDEX folder does not exist.\")\n",
    "\n",
    "def process_query(query:str, flags, algorithm_to_use):\n",
    "    if query == \"\":\n",
    "        return\n",
    "    \n",
    "    # process query\n",
    "    processed_query = TextProcessor(flags[0],flags[1]).process_text(query)\n",
    "\n",
    "    # if algorithm_to_use == \"DAAT\":\n",
    "    #     daat.scoringQuery()\n",
    "    # else:\n",
    "    #     max_score.scoringQuery()\n",
    "        \n",
    "    \n",
    "\n",
    "    "
   ]
  }
 ],
 "metadata": {
  "kernelspec": {
   "display_name": "Python 3 (ipykernel)",
   "language": "python",
   "name": "python3"
  },
  "language_info": {
   "codemirror_mode": {
    "name": "ipython",
    "version": 3
   },
   "file_extension": ".py",
   "mimetype": "text/x-python",
   "name": "python",
   "nbconvert_exporter": "python",
   "pygments_lexer": "ipython3",
   "version": "3.11.6"
  }
 },
 "nbformat": 4,
 "nbformat_minor": 5
}
