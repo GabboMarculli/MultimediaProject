{
 "cells": [
  {
   "cell_type": "code",
   "execution_count": 5,
   "id": "9bf7249d",
   "metadata": {},
   "outputs": [],
   "source": [
    "import ipytest\n",
    "import import_ipynb\n",
    "\n",
    "import sys\n",
    "sys.path.append('../../')  # Go up two folders to the project root\n",
    "\n",
    "from utilities.Compression import Compression \n"
   ]
  },
  {
   "cell_type": "code",
   "execution_count": 2,
   "id": "000a16ae",
   "metadata": {},
   "outputs": [],
   "source": [
    "import ipytest\n",
    "\n",
    "ipytest.autoconfig()"
   ]
  },
  {
   "cell_type": "markdown",
   "id": "e1823ec6",
   "metadata": {},
   "source": [
    "# Tests"
   ]
  },
  {
   "cell_type": "code",
   "execution_count": 3,
   "id": "cdf0d252",
   "metadata": {},
   "outputs": [
    {
     "name": "stdout",
     "output_type": "stream",
     "text": [
      "\u001b[32m.\u001b[0m\u001b[32m.\u001b[0m\u001b[32m.\u001b[0m\u001b[32m.\u001b[0m\u001b[32m.\u001b[0m\u001b[32m                                                                                        [100%]\u001b[0m\n",
      "\u001b[32m\u001b[32m\u001b[1m5 passed\u001b[0m\u001b[32m in 0.01s\u001b[0m\u001b[0m\n"
     ]
    }
   ],
   "source": [
    "%%ipytest\n",
    "\n",
    "def test_unary_compression_integer_list():\n",
    "    \n",
    "    assert bytearray() == Compression.unary_compression_integer_list([])\n",
    "    assert bytearray() == Compression.unary_compression_integer_list([-1,0,-3])\n",
    "    assert bytearray(b'\\x00') == Compression.unary_compression_integer_list([1,1,1,1])\n",
    "    assert bytearray(b'\\x00\\x00') == Compression.unary_compression_integer_list([1,1,1,1,1,1,1,1,1])\n",
    "    assert bytearray(b'\\xde\\xfc') == Compression.unary_compression_integer_list([3,5,7])\n",
    "    assert bytearray(b'\\xde\\xfc\\x90') == Compression.unary_compression_integer_list([3,5,7,1,2,1,2])\n",
    "    assert bytearray(b'\\xff\\xc8') == Compression.unary_compression_integer_list([11,1,2])\n",
    "    \n",
    "\n",
    "def test_unary_decompression_integer_list():\n",
    "    \n",
    "    assert Compression.unary_decompression_integer_list(bytearray(),0)==[]\n",
    "    assert Compression.unary_decompression_integer_list(bytearray(b'\\x00'),3)==[1,1,1]\n",
    "    assert Compression.unary_decompression_integer_list(bytearray(b'\\x00'),4)==[1,1,1,1]\n",
    "    assert Compression.unary_decompression_integer_list(bytearray(b'\\x00\\x00'),9)==[1,1,1,1,1,1,1,1,1]\n",
    "    assert Compression.unary_decompression_integer_list(bytearray(b'\\xde\\xfc'),3)==[3,5,7]\n",
    "    assert Compression.unary_decompression_integer_list(bytearray(b'\\xde\\xfc\\x90'),7)==[3,5,7,1,2,1,2]\n",
    "    assert Compression.unary_decompression_integer_list(bytearray(b'\\xff\\xc8'),3)==[11,1,2]\n",
    "    \n",
    "    \n",
    "def test_variable_byte_compression_integer():\n",
    "    \n",
    "    assert Compression.variable_byte_compression_integer(-1)==None\n",
    "    assert Compression.variable_byte_compression_integer(0)==None\n",
    "    assert Compression.variable_byte_compression_integer(5)==bytearray(b'\\x05')\n",
    "    assert Compression.variable_byte_compression_integer(39)==bytearray(b'\\x27')\n",
    "    assert Compression.variable_byte_compression_integer(129)==bytearray(b'\\x01\\x81')\n",
    "    assert Compression.variable_byte_compression_integer(255)==bytearray(b'\\x01\\xff')\n",
    "    assert Compression.variable_byte_compression_integer(1055307)==bytearray(b'\\x40\\xb4\\xcb')\n",
    "    \n",
    "    \n",
    "def test_variable_byte_compression_integer_list():\n",
    "    \n",
    "    assert Compression.variable_byte_compression_integer_list([])==bytearray()\n",
    "    assert Compression.variable_byte_compression_integer_list([5,-1,0])==bytearray(b'\\x05')\n",
    "    assert Compression.variable_byte_compression_integer_list([5,2,3,4,1,6])==bytearray(b'\\x05\\x02\\x03\\x04\\x01\\x06')\n",
    "    assert Compression.variable_byte_compression_integer_list([5,39,129,255,1055307])==bytearray(b'\\x05\\x27\\x01\\x81\\x01\\xff\\x40\\xb4\\xcb')\n",
    "    \n",
    "    \n",
    "def test_variable_byte_decompression_integer_list():\n",
    "    \n",
    "    assert Compression.variable_byte_decompression_integer_list(bytearray())==[]\n",
    "    assert Compression.variable_byte_decompression_integer_list(bytearray(b'\\x05'))==[5]\n",
    "    assert Compression.variable_byte_decompression_integer_list(bytearray(b'\\x05\\x02\\x03\\x04\\x01\\x06'))==[5,2,3,4,1,6]\n",
    "    assert Compression.variable_byte_decompression_integer_list(bytearray(b'\\x05\\x27\\x01\\x81\\x01\\xff\\x40\\xb4\\xcb'))==[5,39,129,255,1055307]\n",
    "    "
   ]
  }
 ],
 "metadata": {
  "kernelspec": {
   "display_name": "Python 3 (ipykernel)",
   "language": "python",
   "name": "python3"
  },
  "language_info": {
   "codemirror_mode": {
    "name": "ipython",
    "version": 3
   },
   "file_extension": ".py",
   "mimetype": "text/x-python",
   "name": "python",
   "nbconvert_exporter": "python",
   "pygments_lexer": "ipython3",
   "version": "3.9.13"
  }
 },
 "nbformat": 4,
 "nbformat_minor": 5
}
