{
 "cells": [
  {
   "cell_type": "code",
   "execution_count": 4,
   "id": "dde4a9b0-2bc4-4655-9c94-f62ec597082f",
   "metadata": {},
   "outputs": [],
   "source": [
    "import import_ipynb\n",
    "import os\n",
    "import sys\n",
    "sys.path.append('../../')  # Go up two folders to the project root\n",
    "\n",
    "\n",
    "from structures.DocumentIndexRow import DocumentIndexRow"
   ]
  },
  {
   "cell_type": "code",
   "execution_count": 5,
   "id": "475219c7-bef8-40aa-aa85-d105fdcce566",
   "metadata": {},
   "outputs": [],
   "source": [
    "import pytest\n",
    "import ipytest\n",
    "\n",
    "ipytest.autoconfig()"
   ]
  },
  {
   "cell_type": "code",
   "execution_count": 6,
   "id": "ea1b13a1-b813-4c39-aab2-946202b69298",
   "metadata": {},
   "outputs": [
    {
     "name": "stdout",
     "output_type": "stream",
     "text": [
      "\u001b[32m.\u001b[0m\u001b[32m                                                                                            [100%]\u001b[0m\n",
      "\u001b[32m\u001b[32m\u001b[1m1 passed\u001b[0m\u001b[32m in 0.02s\u001b[0m\u001b[0m\n"
     ]
    }
   ],
   "source": [
    "%%ipytest\n",
    "\n",
    "# TEST FOR \"DOCUMENT INDEX ROW\"\n",
    "def test_document_index_row_structure():\n",
    "    row = DocumentIndexRow(5, \"Hello world\")\n",
    "    assert row.document_length == 2\n",
    "    assert row.document_length == row.count_words(\"Hello world\")\n",
    "    assert row.doc_id == 5\n",
    "    assert row.to_string() == \"5 2\"\n",
    "\n",
    "    row = DocumentIndexRow(6, \"Testing multiple words in a sentence.\")\n",
    "    assert row.document_length == 6\n",
    "    assert row.to_string() == \"6 6\"\n",
    "\n",
    "    # Empty document\n",
    "    row = DocumentIndexRow(7, \"\")\n",
    "    assert row.document_length == 0\n",
    "    assert row.to_string() == \"7 0\"\n",
    "\n",
    "    # \"Doc_id\" must be an integer\n",
    "    try:\n",
    "        row = DocumentIndexRow(\"ciao\", \"world\")\n",
    "    except ValueError as e:\n",
    "        assert str(e) == \"doc_no must be an integer and text must be a string.\"\n",
    "\n",
    "    # \"Text\" must be a string\n",
    "    try:\n",
    "        row = DocumentIndexRow(8, 123)\n",
    "    except ValueError as e:\n",
    "        assert str(e) == \"doc_no must be an integer and text must be a string.\"\n",
    "\n",
    "    # Parameter for \"count_words\" must be a string.\n",
    "    try:\n",
    "        row.count_words(56)\n",
    "    except ValueError as e:\n",
    "        assert str(e) == \"text must be a string.\"\n",
    "\n",
    "    assert row.count_words(\"\") == 0"
   ]
  },
  {
   "cell_type": "code",
   "execution_count": 7,
   "id": "a3a05bc3-6862-43bf-8c20-ccfe683b8556",
   "metadata": {},
   "outputs": [
    {
     "name": "stdout",
     "output_type": "stream",
     "text": [
      "\u001b[32m.\u001b[0m\u001b[32m.\u001b[0m\u001b[32m                                                                                           [100%]\u001b[0m\n",
      "\u001b[32m\u001b[32m\u001b[1m2 passed\u001b[0m\u001b[32m in 0.08s\u001b[0m\u001b[0m\n"
     ]
    }
   ],
   "source": [
    "%%ipytest\n",
    "\n",
    "def test_write_doc_index_row_on_disk():\n",
    "    \n",
    "    d_ind_row = DocumentIndexRow(3,\"what do you doing\")\n",
    "    assert d_ind_row.doc_id == 3\n",
    "    assert d_ind_row.document_length == 4  \n",
    "    \n",
    "    if os.path.exists(\"prova.bin\"):\n",
    "        os.remove(\"prova.bin\")\n",
    "\n",
    "    # write in position 0\n",
    "    new_free_offset = d_ind_row.write_debug(\"prova.bin\", 0)\n",
    "    \n",
    "    #Read it again and check all field are correctly present in binary format.\n",
    "    with open(\"prova.bin\", 'rb') as file:\n",
    "        binaryData=file.read()\n",
    "\n",
    "        assert len(binaryData) == d_ind_row.SIZE_DOC_INDEX_ROW\n",
    "        assert binaryData[0]   == 3\n",
    "        assert binaryData[4]   == 4\n",
    "        assert new_free_offset == d_ind_row.SIZE_DOC_INDEX_ROW\n",
    "\n",
    "    d_ind_row2 = DocumentIndexRow(67,\"One Ring to rule them all, One Ring to find them, One Ring to bring them all, and in the darkness bind them.\")  \n",
    "    \n",
    "    #Write a second block in the position returned from previous method.\n",
    "    new_free_offset = d_ind_row2.write_debug(\"prova.bin\", new_free_offset)\n",
    "    \n",
    "    #Read all what is returned, check that the previous block is still present and new block is stored correctly\n",
    "    with open(\"prova.bin\", 'rb') as file:\n",
    "        binaryData=file.read()\n",
    "        \n",
    "        assert len(binaryData)==d_ind_row.SIZE_DOC_INDEX_ROW*2\n",
    "        \n",
    "        assert binaryData[0]   == 3\n",
    "        assert binaryData[4]   == 4\n",
    "        \n",
    "        assert new_free_offset==d_ind_row.SIZE_DOC_INDEX_ROW*2\n",
    "        \n",
    "        assert binaryData[8] == 67\n",
    "        assert binaryData[12] == 23\n",
    "        \n",
    "    os.remove(\"prova.bin\") \n",
    "\n",
    "\n",
    "def test_read_doc_index_row_on_disk():\n",
    "    d_ind_row = DocumentIndexRow(3,\"what do you doing\")\n",
    "    d_ind_row2 = DocumentIndexRow(67,\"One Ring to rule them all, One Ring to find them, One Ring to bring them all, and in the darkness bind them.\")  \n",
    "\n",
    "    new_offset = d_ind_row.write_debug(\"prova.bin\", 0)\n",
    "    d_ind_row2.write_debug(\"prova.bin\", new_offset)\n",
    "\n",
    "    new_doc_index_row = DocumentIndexRow(50, \"I am gonna make him an offer he can't refuse.\")\n",
    "\n",
    "    assert new_doc_index_row.doc_id == 50\n",
    "    assert new_doc_index_row.document_length == 10\n",
    "    \n",
    "    new_doc_index_row.read_debug(\"prova.bin\",0)\n",
    "    \n",
    "    assert new_doc_index_row.doc_id == 3\n",
    "    assert new_doc_index_row.document_length == 4\n",
    "    \n",
    "    new_doc_index_row.read_debug(\"prova.bin\",new_offset)\n",
    "    \n",
    "    assert new_doc_index_row.doc_id == 67\n",
    "    assert new_doc_index_row.document_length == 23\n",
    "    \n",
    "    assert new_doc_index_row.read_debug(\"prova.bin\",800) == None\n",
    "    \n",
    "    os.remove(\"prova.bin\") "
   ]
  },
  {
   "cell_type": "code",
   "execution_count": null,
   "id": "b660b677-c373-42ac-9eec-8594222187a3",
   "metadata": {},
   "outputs": [],
   "source": []
  }
 ],
 "metadata": {
  "kernelspec": {
   "display_name": "Python 3 (ipykernel)",
   "language": "python",
   "name": "python3"
  },
  "language_info": {
   "codemirror_mode": {
    "name": "ipython",
    "version": 3
   },
   "file_extension": ".py",
   "mimetype": "text/x-python",
   "name": "python",
   "nbconvert_exporter": "python",
   "pygments_lexer": "ipython3",
   "version": "3.11.6"
  }
 },
 "nbformat": 4,
 "nbformat_minor": 5
}
