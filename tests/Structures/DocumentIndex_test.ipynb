{
 "cells": [
  {
   "cell_type": "code",
   "execution_count": 1,
   "id": "2b3f13fd-b4fe-4a77-b9b3-b580f1b0fa5b",
   "metadata": {},
   "outputs": [
    {
     "name": "stdout",
     "output_type": "stream",
     "text": [
      "importing Jupyter notebook from C:\\Users\\gabri\\Documents\\GitHub\\tests\\Structures\\../..\\structures\\DocumentIndex.ipynb\n",
      "importing Jupyter notebook from C:\\Users\\gabri\\Documents\\GitHub\\tests\\Structures\\../..\\utilities\\General_Utilities.ipynb\n",
      "importing Jupyter notebook from C:\\Users\\gabri\\Documents\\GitHub\\tests\\Structures\\../..\\structures\\DocumentIndexRow.ipynb\n"
     ]
    }
   ],
   "source": [
    "import import_ipynb\n",
    "import os\n",
    "import sys\n",
    "sys.path.append('../../')  # Go up two folders to the project root\n",
    "\n",
    "\n",
    "from structures.DocumentIndex import DocumentIndex "
   ]
  },
  {
   "cell_type": "code",
   "execution_count": 2,
   "id": "96cde69c-bbfb-4bcd-894b-80681115e606",
   "metadata": {},
   "outputs": [],
   "source": [
    "import pytest\n",
    "import ipytest\n",
    "\n",
    "ipytest.autoconfig()"
   ]
  },
  {
   "cell_type": "code",
   "execution_count": 3,
   "id": "dc23f5ee-c3c7-47e4-a7a7-625116284bca",
   "metadata": {},
   "outputs": [
    {
     "name": "stdout",
     "output_type": "stream",
     "text": [
      "\u001b[32m.\u001b[0m\u001b[32m                                                                                            [100%]\u001b[0m\n",
      "\u001b[32m\u001b[32m\u001b[1m1 passed\u001b[0m\u001b[32m in 0.02s\u001b[0m\u001b[0m\n"
     ]
    }
   ],
   "source": [
    "%%ipytest\n",
    "\n",
    "# TEST FOR \"DOCUMENT INDEX\"\n",
    "def test_document_index_structure():\n",
    "    doc = DocumentIndex()\n",
    "\n",
    "    doc.add_document(1, \"Information retrieval system\")\n",
    "    document = doc.get_document(1)\n",
    "    assert document.document_length == 3\n",
    "    assert doc.is_empty() == False\n",
    "    \n",
    "    assert doc.number_of_documents == 1\n",
    "    assert doc.total_document_length == 3\n",
    "\n",
    "    doc.add_document(2, \"Document index\")\n",
    "    doc.add_document(3, \"My name is Nicola\")\n",
    "    assert doc.get_document(2).document_length == 2\n",
    "    assert doc.get_document(3).document_length == 4\n",
    "\n",
    "    assert doc.number_of_documents == 3\n",
    "    assert doc.total_document_length == 9\n",
    "\n",
    "    assert doc.get_document(5) is None\n",
    "\n",
    "    doc.add_document(4, \"\")\n",
    "    assert doc.get_document(4).document_length == 0\n",
    "\n",
    "    # create a copy of the structure and test if copy is equal\n",
    "    doc_aux = doc.get_structure()\n",
    "    assert doc.get_document(3).doc_id==doc_aux[3].doc_id and doc.get_document(3).document_length == doc_aux[3].document_length\n",
    "\n",
    "    # test singleton\n",
    "    doc2 = DocumentIndex()\n",
    "    assert doc2.get_document(1).document_length == 3\n",
    "    doc2.add_document(5, \"Test for singleton class\")\n",
    "    assert doc.get_document(5) == doc2.get_document(5)\n",
    "\n",
    "    # test if \"clear_structure\" works\n",
    "    assert doc.is_empty() == False\n",
    "    doc.clear_structure()\n",
    "    assert doc.is_empty() ==True\n",
    "\n",
    "    # Try to pass \"doc_id\" as a string\n",
    "    try:\n",
    "        doc.add_document(\"hello\", \"hello\")\n",
    "    except ValueError as e:\n",
    "        assert str(e) == \"doc_id must be an integer and text must be a string.\"\n",
    "\n",
    "    # Try to pass \"text\" as a integer\n",
    "    try:\n",
    "        doc.add_document(5, 5)\n",
    "    except ValueError as e:\n",
    "        assert str(e) == \"doc_id must be an integer and text must be a string.\"    "
   ]
  },
  {
   "cell_type": "code",
   "execution_count": null,
   "id": "4dcacbcc-56af-4f91-8578-2cbe685ceaf8",
   "metadata": {},
   "outputs": [],
   "source": []
  }
 ],
 "metadata": {
  "kernelspec": {
   "display_name": "Python 3 (ipykernel)",
   "language": "python",
   "name": "python3"
  },
  "language_info": {
   "codemirror_mode": {
    "name": "ipython",
    "version": 3
   },
   "file_extension": ".py",
   "mimetype": "text/x-python",
   "name": "python",
   "nbconvert_exporter": "python",
   "pygments_lexer": "ipython3",
   "version": "3.11.6"
  }
 },
 "nbformat": 4,
 "nbformat_minor": 5
}
