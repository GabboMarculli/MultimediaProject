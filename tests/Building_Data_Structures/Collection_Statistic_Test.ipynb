{
 "cells": [
  {
   "cell_type": "code",
   "execution_count": 1,
   "id": "5177ee31-cfa9-49bc-a85e-6aa45d16d3a6",
   "metadata": {},
   "outputs": [
    {
     "name": "stdout",
     "output_type": "stream",
     "text": [
      "importing Jupyter notebook from C:\\Users\\gabri\\Documents\\GitHub\\MultimediaProject\\tests\\Building_Data_Structures\\../..\\building_data_structures\\CollectionStatistics.ipynb\n"
     ]
    }
   ],
   "source": [
    "import import_ipynb\n",
    "import sys\n",
    "sys.path.append('../../')  # Go up two folders to the project root\n",
    "\n",
    "import building_data_structures.CollectionStatistics as coll_stat\n",
    "\n",
    "import ipytest\n",
    "ipytest.autoconfig()"
   ]
  },
  {
   "cell_type": "code",
   "execution_count": 2,
   "id": "8caf4949-b03c-481f-ba4b-cb8e580caf47",
   "metadata": {},
   "outputs": [
    {
     "name": "stdout",
     "output_type": "stream",
     "text": [
      "\u001b[32m.\u001b[0m\u001b[32m                                                                                            [100%]\u001b[0m\n",
      "\u001b[32m\u001b[32m\u001b[1m1 passed\u001b[0m\u001b[32m in 0.03s\u001b[0m\u001b[0m\n"
     ]
    }
   ],
   "source": [
    "%%ipytest\n",
    "def test_save_statistics():\n",
    "    # Parametri di esempio\n",
    "    num_documents = 8800000\n",
    "    num_distinct_terms = 456230\n",
    "    sum_document_lengths = 12300234\n",
    "\n",
    "    # Creazione di un oggetto Collection_statistics e salvataggio delle statistiche\n",
    "    collection_statistics = coll_stat.Collection_statistics(num_documents, num_distinct_terms, sum_document_lengths)\n",
    "    collection_statistics.save_statistics()\n",
    "\n",
    "    # Lettura del file e verifica del contenuto\n",
    "    with open(\"Collection_statistics.txt\", \"r\") as f:\n",
    "        lines = f.readlines()\n",
    "\n",
    "    for i, statistic in enumerate(collection_statistics.keys):\n",
    "        name, value = map(str.strip, lines[i].split(':'))\n",
    "        assert name == statistic\n",
    "        assert int(value) == collection_statistics.values[i]\n",
    "\n",
    "    try:\n",
    "        bad_collection_statistics = coll_stat.Collection_statistics(-4, 100, 100)\n",
    "    except ValueError as e:\n",
    "        assert str(e) == \"Values must be positive.\"\n",
    "\n",
    "    try:\n",
    "        bad_collection_statistics = coll_stat.Collection_statistics(100, 100, -2)\n",
    "    except ValueError as e:\n",
    "        assert str(e) == \"Values must be positive.\"\n",
    "\n",
    "    try:\n",
    "        bad_collection_statistics = coll_stat.Collection_statistics(\"file.txt\", 100, -2)\n",
    "    except ValueError as e:\n",
    "        assert str(e) == \"Values must be integer.\"\n",
    "\n",
    "    try:\n",
    "        bad_collection_statistics = coll_stat.Collection_statistics(100, 100, \"file.txt\")\n",
    "    except ValueError as e:\n",
    "        assert str(e) == \"Values must be integer.\""
   ]
  }
 ],
 "metadata": {
  "kernelspec": {
   "display_name": "Python 3 (ipykernel)",
   "language": "python",
   "name": "python3"
  },
  "language_info": {
   "codemirror_mode": {
    "name": "ipython",
    "version": 3
   },
   "file_extension": ".py",
   "mimetype": "text/x-python",
   "name": "python",
   "nbconvert_exporter": "python",
   "pygments_lexer": "ipython3",
   "version": "3.11.6"
  }
 },
 "nbformat": 4,
 "nbformat_minor": 5
}
