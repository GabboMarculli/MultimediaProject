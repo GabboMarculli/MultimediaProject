{
 "cells": [
  {
   "cell_type": "code",
   "execution_count": 1,
   "id": "5177ee31-cfa9-49bc-a85e-6aa45d16d3a6",
   "metadata": {},
   "outputs": [
    {
     "name": "stdout",
     "output_type": "stream",
     "text": [
      "importing Jupyter notebook from C:\\Users\\gabri\\Documents\\GitHub\\tests\\Building_Data_Structures\\../..\\building_data_structures\\CollectionStatistics.ipynb\n"
     ]
    }
   ],
   "source": [
    "import import_ipynb\n",
    "import sys\n",
    "sys.path.append('../../')  # Go up two folders to the project root\n",
    "\n",
    "import building_data_structures.CollectionStatistics as coll_stat\n",
    "\n",
    "import ipytest\n",
    "ipytest.autoconfig()"
   ]
  },
  {
   "cell_type": "code",
   "execution_count": 2,
   "id": "8caf4949-b03c-481f-ba4b-cb8e580caf47",
   "metadata": {},
   "outputs": [
    {
     "name": "stdout",
     "output_type": "stream",
     "text": [
      "\u001b[32m.\u001b[0m\u001b[32m                                                                                            [100%]\u001b[0m\n",
      "\u001b[32m\u001b[32m\u001b[1m1 passed\u001b[0m\u001b[32m in 0.03s\u001b[0m\u001b[0m\n"
     ]
    }
   ],
   "source": [
    "%%ipytest\n",
    "def test_save_statistics():\n",
    "    # Parametri di esempio\n",
    "    num_documents = 8800000\n",
    "    num_distinct_terms = 456230\n",
    "    sum_document_lengths = 12300234\n",
    "\n",
    "    # Creazione di un oggetto Collection_statistics e salvataggio delle statistiche\n",
    "    collection_statistics = coll_stat.Collection_statistics(\"Collection_statistics.txt\", num_documents, num_distinct_terms, sum_document_lengths)\n",
    "    collection_statistics.save_statistics()\n",
    "\n",
    "    # Lettura del file e verifica del contenuto\n",
    "    with open(\"Collection_statistics.txt\", \"r\") as f:\n",
    "        lines = f.readlines()\n",
    "\n",
    "    name_values = [tuple(line.strip().split(\":\")) for line in lines]\n",
    "    \n",
    "    for name, value in name_values:\n",
    "        if name == \"Document Index Size\":\n",
    "            assert int(value) == num_documents\n",
    "        elif name == \"Vocabulary Size\":\n",
    "            assert int(value) == num_distinct_terms\n",
    "        elif name == \"Sum Document length\":\n",
    "            assert int(value) == sum_document_lengths\n",
    "\n",
    "    try:\n",
    "        bad_collection_statistics = coll_stat.Collection_statistics(-4, 100, 100)\n",
    "    except ValueError as e:\n",
    "        assert str(e) == \"Values must be positive.\"\n",
    "\n",
    "    try:\n",
    "        bad_collection_statistics = coll_stat.Collection_statistics(100, 100, -2)\n",
    "    except ValueError as e:\n",
    "        assert str(e) == \"Values must be positive.\"\n",
    "\n",
    "    try:\n",
    "        bad_collection_statistics = coll_stat.Collection_statistics(100, 100, \"file.txt\")\n",
    "    except ValueError as e:\n",
    "        assert str(e) == \"Values must be integer.\""
   ]
  },
  {
   "cell_type": "code",
   "execution_count": 3,
   "id": "f52f116d-c8d4-4948-8cbb-d476067725a2",
   "metadata": {},
   "outputs": [
    {
     "name": "stdout",
     "output_type": "stream",
     "text": [
      "\u001b[32m.\u001b[0m\u001b[32m                                                                                            [100%]\u001b[0m\n",
      "\u001b[32m\u001b[32m\u001b[1m1 passed\u001b[0m\u001b[32m in 0.02s\u001b[0m\u001b[0m\n"
     ]
    }
   ],
   "source": [
    "%%ipytest\n",
    "\n",
    "def test_binary_mode():\n",
    "    coll = coll_stat.Collection_statistics(\"coll_stat.bin\", 50, 60, 70)\n",
    "\n",
    "    assert coll.num_documents == 50\n",
    "    assert coll.num_distinct_terms == 60\n",
    "    assert coll.sum_document_lengths == 70\n",
    "    \n",
    "    coll.write_binary_mode()\n",
    "    \n",
    "    coll2 = coll_stat.Collection_statistics(\"coll_stat.bin\")\n",
    "\n",
    "    assert coll2.num_documents == 0\n",
    "    assert coll2.num_distinct_terms == 0\n",
    "    assert coll2.sum_document_lengths == 0\n",
    "    \n",
    "    coll2.read_binary_mode()\n",
    "    \n",
    "    assert coll2.num_documents == 50\n",
    "    assert coll2.num_distinct_terms == 60\n",
    "    assert coll2.sum_document_lengths == 70"
   ]
  },
  {
   "cell_type": "code",
   "execution_count": null,
   "id": "3b1d6d59-1683-433a-ac1b-faba81fd20aa",
   "metadata": {},
   "outputs": [],
   "source": []
  }
 ],
 "metadata": {
  "kernelspec": {
   "display_name": "Python 3 (ipykernel)",
   "language": "python",
   "name": "python3"
  },
  "language_info": {
   "codemirror_mode": {
    "name": "ipython",
    "version": 3
   },
   "file_extension": ".py",
   "mimetype": "text/x-python",
   "name": "python",
   "nbconvert_exporter": "python",
   "pygments_lexer": "ipython3",
   "version": "3.11.6"
  }
 },
 "nbformat": 4,
 "nbformat_minor": 5
}
