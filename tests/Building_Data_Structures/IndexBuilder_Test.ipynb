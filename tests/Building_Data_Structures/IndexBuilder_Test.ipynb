{
 "cells": [
  {
   "cell_type": "code",
   "execution_count": 1,
   "id": "066c036c",
   "metadata": {},
   "outputs": [
    {
     "name": "stdout",
     "output_type": "stream",
     "text": [
      "importing Jupyter notebook from C:\\Users\\Davide\\IR\\Progetto\\tests\\Building_Data_Structures\\../..\\building_data_structures\\IndexBuilder.ipynb\n"
     ]
    }
   ],
   "source": [
    "import ipytest\n",
    "import import_ipynb\n",
    "\n",
    "import sys\n",
    "sys.path.append('../../')  # Go up two folders to the project root\n",
    "\n",
    "\n",
    "from building_data_structures.IndexBuilder import Posting, InvertedIndex, IndexBuilder "
   ]
  },
  {
   "cell_type": "markdown",
   "id": "77dd521b",
   "metadata": {},
   "source": [
    "# Tests"
   ]
  },
  {
   "cell_type": "code",
   "execution_count": 2,
   "id": "b65ba037",
   "metadata": {},
   "outputs": [],
   "source": [
    "import ipytest\n",
    "\n",
    "ipytest.autoconfig()"
   ]
  },
  {
   "cell_type": "code",
   "execution_count": 3,
   "id": "9bfbe2ac",
   "metadata": {},
   "outputs": [
    {
     "name": "stdout",
     "output_type": "stream",
     "text": [
      "\u001b[32m.\u001b[0m\u001b[32m.\u001b[0m\u001b[32m                                                                                           [100%]\u001b[0m\n",
      "\u001b[32m\u001b[32m\u001b[1m2 passed\u001b[0m\u001b[32m in 0.01s\u001b[0m\u001b[0m\n"
     ]
    }
   ],
   "source": [
    "%%ipytest\n",
    "\n",
    "#Test InvertedIndex and Posting datastructures\n",
    "\n",
    "def test_inverted_index_data_structure_and_methods():\n",
    "    ind = InvertedIndex()\n",
    "    ind.add_posting(\"term\", 1, 1)\n",
    "    ind.add_posting(\"term\", 2, 4)\n",
    "    \n",
    "    # Testing existing term\n",
    "    postings = ind.get_postings(\"term\")\n",
    "    assert len(postings) == 2\n",
    "    assert postings[0].doc_id == 1\n",
    "    assert postings[0].payload == 1\n",
    "    assert postings[1].doc_id == 2\n",
    "    assert postings[1].payload == 4\n",
    "   \n",
    "    # Testing non-existent term\n",
    "    assert ind.get_postings(\"xyx\") is None\n",
    "    \n",
    "    #Test is_empty and clear_structure and get_structure\n",
    "    assert ind.is_empty() == False\n",
    "    ind.clear_structure()\n",
    "    assert ind.is_empty() ==True\n",
    "    assert ind.get_postings(\"term\") == None\n",
    "    ind.add_posting(\"term\", 57, 4)\n",
    "    ind2=ind.get_structure()\n",
    "    assert ind.get_postings(\"term\")[0].doc_id==ind2[\"term\"][0].doc_id and ind.get_postings(\"term\")[0].payload==ind2[\"term\"][0].payload\n",
    "    \n",
    "    #Test vocabulary\n",
    "    ind = InvertedIndex()\n",
    "    ind.add_posting(\"term1\", 1)\n",
    "    ind.add_posting(\"term2\", 1)\n",
    "    ind.add_posting(\"term3\", 2)\n",
    "    ind.add_posting(\"term2\", 3)\n",
    "    assert set(ind.get_terms()) == set([\"term1\", \"term2\", \"term3\"])\n",
    "    \n",
    "def test_posting_data_structure():\n",
    "    posting_1=Posting(4,5)\n",
    "    \n",
    "    assert posting_1.doc_id==4\n",
    "    assert posting_1.payload==5\n",
    "    \n",
    "    posting_2=Posting.from_string(\"1:45\")\n",
    "    assert posting_2.doc_id==1\n",
    "    assert posting_2.payload==45"
   ]
  },
  {
   "cell_type": "code",
   "execution_count": 5,
   "id": "a11780bf",
   "metadata": {},
   "outputs": [
    {
     "name": "stdout",
     "output_type": "stream",
     "text": [
      "Index Builder costructor\n",
      "\u001b[32m.\u001b[0m\u001b[32m                                                                                            [100%]\u001b[0m\n",
      "\u001b[32m\u001b[32m\u001b[1m1 passed\u001b[0m\u001b[32m in 0.12s\u001b[0m\u001b[0m\n"
     ]
    }
   ],
   "source": [
    "%%ipytest\n",
    "\n",
    "indexBuilder=IndexBuilder()\n",
    "\n",
    "test_documents=[\n",
    "    \"this is a random sentence without punctuation\",\n",
    "    \"python is a versatile programming language\",\n",
    "    \"the quick brown fox jumps over the lazy dog\",\n",
    "    \"coding is a creative and logical process\",\n",
    "    \"sunsets are a beautiful sight to behold\",\n",
    "    \"coffee is a popular beverage around the world\",\n",
    "    \"music has the power to evoke emotions\",\n",
    "    \"books transport readers to different worlds\",\n",
    "    \"kindness and compassion make the world better\",\n",
    "    \"the moonlight reflects on the calm lake in the night the vision is awesome\",\n",
    "    \"nature provides solace and tranquility\",\n",
    "    \"imagination knows no boundaries\",\n",
    "    \"friendship is a treasure worth cherishing\",\n",
    "    \"happiness is found in simple moments\",\n",
    "    \"laughter is contagious and brings joy is better for all\"\n",
    "]\n",
    "\n",
    "\n",
    "def test_index_building():\n",
    "\n",
    "    #Test buildInMemoryIndex\n",
    "    \n",
    "    index=indexBuilder.build_in_memory_index(test_documents)\n",
    "    \n",
    "    assert len(index.get_postings(\"is\"))==8 \n",
    "    assert index.get_postings(\"is\")[2].doc_id==3 and index.get_postings(\"is\")[2].payload==1\n",
    "    assert index.get_postings(\"is\")[7].doc_id==14 and index.get_postings(\"is\")[7].payload==2\n",
    "    \n",
    "    assert len(index.get_postings(\"python\"))==1 \n",
    "    assert index.get_postings(\"python\")[0].doc_id==1 and index.get_postings(\"python\")[0].payload==1\n",
    "    \n",
    "    assert len(index.get_postings(\"the\"))==5 \n",
    "    assert index.get_postings(\"the\")[4].doc_id==9 and index.get_postings(\"the\")[4].payload==4\n",
    "\n",
    "\n",
    "    \n",
    "    \n",
    "    #Test Blocked Sort-Based Indexing\n",
    "    \n",
    "    for i in range(1,6):   #Test for different block size\n",
    "        \n",
    "        indexBuilder.build_block_sort_base_indexing(test_documents,\"complete_inverted_index_TEST\"+str(i),500*i,False,True)\n",
    "\n",
    "        #After testing the correctness of in memory index\n",
    "        #for this short document collection I read the output file and store it in main memory, \n",
    "        #then check the correct presence of terms and postings.\n",
    "\n",
    "        ind_read_from_disk=InvertedIndex()\n",
    "        with open(\"complete_inverted_index_TEST\"+str(i)+indexBuilder.OUTPUT_FILE_FORMAT, \"r\") as file:\n",
    "            for line in file:\n",
    "\n",
    "                term=line.split()[0]\n",
    "                postings_str_lst=line.split()[1:]\n",
    "\n",
    "                for posting in  postings_str_lst:\n",
    "                    doc_id,freq=posting.split(\":\")\n",
    "                    ind_read_from_disk.add_posting(term,int(doc_id),int(freq))\n",
    "\n",
    "\n",
    "        assert len(ind_read_from_disk.get_postings(\"is\"))==8 \n",
    "        assert ind_read_from_disk.get_postings(\"is\")[2].doc_id==3 and ind_read_from_disk.get_postings(\"is\")[2].payload==1\n",
    "        assert ind_read_from_disk.get_postings(\"is\")[7].doc_id==14 and ind_read_from_disk.get_postings(\"is\")[7].payload==2\n",
    "\n",
    "        assert len(ind_read_from_disk.get_postings(\"python\"))==1 \n",
    "        assert ind_read_from_disk.get_postings(\"python\")[0].doc_id==1 and ind_read_from_disk.get_postings(\"python\")[0].payload==1\n",
    "\n",
    "        assert len(ind_read_from_disk.get_postings(\"the\"))==5 \n",
    "        assert ind_read_from_disk.get_postings(\"the\")[4].doc_id==9 and ind_read_from_disk.get_postings(\"the\")[4].payload==4\n",
    "    \n"
   ]
  },
  {
   "cell_type": "code",
   "execution_count": null,
   "id": "764b647b",
   "metadata": {},
   "outputs": [],
   "source": []
  }
 ],
 "metadata": {
  "kernelspec": {
   "display_name": "Python 3 (ipykernel)",
   "language": "python",
   "name": "python3"
  },
  "language_info": {
   "codemirror_mode": {
    "name": "ipython",
    "version": 3
   },
   "file_extension": ".py",
   "mimetype": "text/x-python",
   "name": "python",
   "nbconvert_exporter": "python",
   "pygments_lexer": "ipython3",
   "version": "3.11.6"
  }
 },
 "nbformat": 4,
 "nbformat_minor": 5
}
