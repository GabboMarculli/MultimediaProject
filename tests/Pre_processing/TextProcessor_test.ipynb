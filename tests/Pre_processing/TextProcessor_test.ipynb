{
 "cells": [
  {
   "cell_type": "code",
   "execution_count": 5,
   "id": "d1ded6f5-4fae-4f7b-9df8-faa13a2e0fff",
   "metadata": {},
   "outputs": [
    {
     "name": "stdout",
     "output_type": "stream",
     "text": [
      "importing Jupyter notebook from C:\\Users\\gabri\\Desktop\\IR\\tests\\Pre_processing\\../..\\pre_processing\\TextProcessor.ipynb\n"
     ]
    }
   ],
   "source": [
    "import import_ipynb\n",
    "\n",
    "import sys\n",
    "sys.path.append('../../')  # Go up two folders to the project root\n",
    "\n",
    "from pre_processing.TextProcessor import TextProcessor "
   ]
  },
  {
   "cell_type": "markdown",
   "id": "563dc4e4-cbfd-4618-bad2-27f0f08d75b6",
   "metadata": {},
   "source": [
    "# Tests"
   ]
  },
  {
   "cell_type": "code",
   "execution_count": 6,
   "id": "7214437a-ad76-40a7-99c1-b37be0f85aac",
   "metadata": {},
   "outputs": [],
   "source": [
    "import pytest\n",
    "import ipytest\n",
    "\n",
    "ipytest.autoconfig()"
   ]
  },
  {
   "cell_type": "code",
   "execution_count": 17,
   "id": "be45467e-4789-42d6-ae42-97ccb88e7d9e",
   "metadata": {},
   "outputs": [],
   "source": [
    "TEST_SENTENCES = [\n",
    "    \"This is a sentence with multiple spaces  and punctuation!\",\n",
    "    \"there are special characters @, #, $, %, and ^ in this sentence.\",\n",
    "    \"What's the meaning of a 'wrong' apostrophe in the middle of a word?\",\n",
    "    \"\\\"Multiple quotes\\\" and special characters?!\",\n",
    "    \"I just can't understand why there are so many spaces          between words.\",\n",
    "    \"Stop!!!! Using too many exclamation points!!! It doesn't make sense!!!!\",\n",
    "    \"What's the difference between \\\"English quotes\\\" and 'single quotes'?\",\n",
    "    \"Sometimes, sentences end with lots of commas,,,,,, which are annoying.\",\n",
    "    \"no, this sentence has no punctuation or spaces between words\",\n",
    "    \"The excessive use of a period! Overdone!!!\",\n",
    "    \"There's a tabulator\\tbetween these words, making it weird.\",\n",
    "    \"What's the use of a semicolon; when a comma or a period could be used?\",\n",
    "    \"Who cares about correcting spelling or grammar errors: no one, apparently.\",\n",
    "    \"Cats are running and jumping all over the place!\",\n",
    "    \"The quick brown fox jumps over the lazy dog.\",\n",
    "    \"She likes to read books, especially mystery novels.\",\n",
    "    \"The conference starts at 9 AM sharp. Don't be late!\",\n",
    "    \"The weather is beautiful today, with clear skies and a gentle breeze.\",\n",
    "    \"Eating fruits and vegetables is essential for a healthy diet.\",\n",
    "    \"Learning new skills is beneficial for personal and professional growth.\",\n",
    "    \"Traveling to different countries exposes you to diverse cultures and traditions.\",\n",
    "    \"The pen      😓    is on the  😓  !? tables  👿  riding ..\",\n",
    "    \"\",\n",
    "    \"                Learning               !\"\n",
    "]\n",
    "\n",
    "# Array dei risultati attesi in inglese\n",
    "EXPECTED_SENTENCES = [\n",
    "    \"sentenc multipl space punctuat\",\n",
    "    \"special charact sentenc\",\n",
    "    \"mean wrong apostroph middl word\",\n",
    "    \"multipl quot special charact\",\n",
    "    \"understand mani space word\",\n",
    "    \"stop use mani exclam point make sens\",\n",
    "    \"differ english quot singl quot\",\n",
    "    \"sometim sentenc end lot comma annoy\",\n",
    "    \"sentenc punctuat space word\",\n",
    "    \"excess use period overdon\",\n",
    "    \"tabul word make weird\",\n",
    "    \"use semicolon comma period could use\",\n",
    "    \"care correct spell grammar error one appar\",\n",
    "    \"cat run jump place\",\n",
    "    \"quick brown fox jump lazi dog\",\n",
    "    \"like read book especi mysteri novel\",\n",
    "    \"confer start 9 sharp late\",\n",
    "    \"weather beauti today clear sky gentl breez\",\n",
    "    \"eat fruit veget essenti healthi diet\",\n",
    "    \"learn new skill benefici person profession growth\",\n",
    "    \"travel differ countri expos divers cultur tradit\",\n",
    "    \"pen tabl ride\",\n",
    "    \"\",\n",
    "    \"learn\"\n",
    "]"
   ]
  },
  {
   "cell_type": "code",
   "execution_count": 18,
   "id": "9ed96b42-8ad7-4f08-9c15-b316183794c2",
   "metadata": {},
   "outputs": [
    {
     "name": "stdout",
     "output_type": "stream",
     "text": [
      "\u001b[32m.\u001b[0m\u001b[32m.\u001b[0m\u001b[32m.\u001b[0m\u001b[32m.\u001b[0m\u001b[32m.\u001b[0m\u001b[32m.\u001b[0m\u001b[32m.\u001b[0m\u001b[32m.\u001b[0m\u001b[32m.\u001b[0m\u001b[32m.\u001b[0m\u001b[32m.\u001b[0m\u001b[32m.\u001b[0m\u001b[32m.\u001b[0m\u001b[32m.\u001b[0m\u001b[32m.\u001b[0m\u001b[32m.\u001b[0m\u001b[32m.\u001b[0m\u001b[32m.\u001b[0m\u001b[32m.\u001b[0m\u001b[32m.\u001b[0m\u001b[32m.\u001b[0m\u001b[32m.\u001b[0m\u001b[32m.\u001b[0m\u001b[32m.\u001b[0m\u001b[32m                                                                     [100%]\u001b[0m\n",
      "\u001b[32m\u001b[32m\u001b[1m24 passed\u001b[0m\u001b[32m in 0.30s\u001b[0m\u001b[0m\n"
     ]
    }
   ],
   "source": [
    "%%ipytest\n",
    "\n",
    "@pytest.mark.parametrize(\"test_sentences,expected_results\", list(zip(TEST_SENTENCES,EXPECTED_SENTENCES)))\n",
    "def test_eval(test_sentences:str, expected_results:str):\n",
    "    text_processor = TextProcessor() \n",
    "    ris=text_processor.process_text(test_sentences)\n",
    "    print (ris)\n",
    "    print (\"----\")\n",
    "    print (expected_results)\n",
    "    assert ris == expected_results"
   ]
  },
  {
   "cell_type": "code",
   "execution_count": null,
   "id": "af5d8d7f-dfcc-4bbf-9225-75a4d112529d",
   "metadata": {},
   "outputs": [],
   "source": []
  }
 ],
 "metadata": {
  "kernelspec": {
   "display_name": "Python 3 (ipykernel)",
   "language": "python",
   "name": "python3"
  },
  "language_info": {
   "codemirror_mode": {
    "name": "ipython",
    "version": 3
   },
   "file_extension": ".py",
   "mimetype": "text/x-python",
   "name": "python",
   "nbconvert_exporter": "python",
   "pygments_lexer": "ipython3",
   "version": "3.11.6"
  }
 },
 "nbformat": 4,
 "nbformat_minor": 5
}
