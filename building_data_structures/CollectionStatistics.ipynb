{
 "cells": [
  {
   "cell_type": "code",
   "execution_count": 1,
   "id": "54c424c0-4321-4ccc-8328-620f755d7642",
   "metadata": {},
   "outputs": [],
   "source": [
    "class Collection_statistics:\n",
    "    def __init__(self, num_documents: int, num_distinct_terms: int, sum_document_lengths: int) -> None:\n",
    "        \"\"\"\n",
    "        Initializes an instance of Collection_statistics.\n",
    "\n",
    "        Args:\n",
    "            num_documents (int): Number of documents.\n",
    "            num_distinct_terms (int): Number of distinct terms.\n",
    "            sum_document_lengths (int): Sum of document lengths.\n",
    "        \"\"\"\n",
    "        if not isinstance(num_documents, int) or not isinstance(num_distinct_terms, int) or not isinstance(sum_document_lengths, int):\n",
    "            raise ValueError(\"Values must be integer.\")\n",
    "            \n",
    "        if num_documents < 0 or num_distinct_terms < 0 or sum_document_lengths < 0:\n",
    "            raise ValueError(\"Values must be positive.\")\n",
    "            \n",
    "        self.keys = ['Sum Document length','Document Index Size','Vocabulary Size']\n",
    "        self.values = [num_documents,num_distinct_terms,sum_document_lengths]\n",
    "\n",
    "    def save_statistics(self) -> None:\n",
    "        with open(\"Collection_statistics.txt\", \"w\") as f:\n",
    "            for i, index in enumerate(self.keys):\n",
    "                f.write(f\"{self.keys[i]}: {self.values[i]}\\n\")"
   ]
  },
  {
   "cell_type": "code",
   "execution_count": 2,
   "id": "9e2f8f30-98f5-40e9-89c6-fed1bf42a296",
   "metadata": {},
   "outputs": [],
   "source": [
    "import ipytest\n",
    "ipytest.autoconfig()"
   ]
  },
  {
   "cell_type": "code",
   "execution_count": 3,
   "id": "f8fe2210-d47c-4437-9f67-f226a261652f",
   "metadata": {},
   "outputs": [
    {
     "name": "stdout",
     "output_type": "stream",
     "text": [
      "\u001b[32m.\u001b[0m\u001b[32m                                                                                            [100%]\u001b[0m\n",
      "\u001b[32m\u001b[32m\u001b[1m1 passed\u001b[0m\u001b[32m in 0.04s\u001b[0m\u001b[0m\n"
     ]
    }
   ],
   "source": [
    "%%ipytest\n",
    "def test_save_statistics():\n",
    "    # Parametri di esempio\n",
    "    num_documents = 8800000\n",
    "    num_distinct_terms = 456230\n",
    "    sum_document_lengths = 12300234\n",
    "\n",
    "    # Creazione di un oggetto Collection_statistics e salvataggio delle statistiche\n",
    "    collection_statistics = Collection_statistics(num_documents, num_distinct_terms, sum_document_lengths)\n",
    "    collection_statistics.save_statistics()\n",
    "\n",
    "    # Lettura del file e verifica del contenuto\n",
    "    with open(\"Collection_statistics.txt\", \"r\") as f:\n",
    "        lines = f.readlines()\n",
    "\n",
    "    for i, statistic in enumerate(collection_statistics.keys):\n",
    "        name, value = map(str.strip, lines[i].split(':'))\n",
    "        assert name == statistic\n",
    "        assert int(value) == collection_statistics.values[i]\n",
    "\n",
    "    try:\n",
    "        bad_collection_statistics = Collection_statistics(-4, 100, 100)\n",
    "    except ValueError as e:\n",
    "        assert str(e) == \"Values must be positive.\"\n",
    "\n",
    "    try:\n",
    "        bad_collection_statistics = Collection_statistics(100, 100, -2)\n",
    "    except ValueError as e:\n",
    "        assert str(e) == \"Values must be positive.\"\n",
    "\n",
    "    try:\n",
    "        bad_collection_statistics = Collection_statistics(\"file.txt\", 100, -2)\n",
    "    except ValueError as e:\n",
    "        assert str(e) == \"Values must be integer.\"\n",
    "\n",
    "    try:\n",
    "        bad_collection_statistics = Collection_statistics(100, 100, \"file.txt\")\n",
    "    except ValueError as e:\n",
    "        assert str(e) == \"Values must be integer.\""
   ]
  }
 ],
 "metadata": {
  "kernelspec": {
   "display_name": "Python 3 (ipykernel)",
   "language": "python",
   "name": "python3"
  },
  "language_info": {
   "codemirror_mode": {
    "name": "ipython",
    "version": 3
   },
   "file_extension": ".py",
   "mimetype": "text/x-python",
   "name": "python",
   "nbconvert_exporter": "python",
   "pygments_lexer": "ipython3",
   "version": "3.11.6"
  }
 },
 "nbformat": 4,
 "nbformat_minor": 5
}
