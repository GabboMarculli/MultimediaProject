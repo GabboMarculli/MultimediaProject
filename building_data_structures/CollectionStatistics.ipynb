{
 "cells": [
  {
   "cell_type": "code",
   "execution_count": 1,
   "id": "54c424c0-4321-4ccc-8328-620f755d7642",
   "metadata": {},
   "outputs": [],
   "source": [
    "class Collection_statistics:\n",
    "    def __init__(self, num_documents: int, num_distinct_terms: int, sum_document_lengths: int) -> None:\n",
    "        \"\"\"\n",
    "        Initializes an instance of Collection_statistics.\n",
    "\n",
    "        Args:\n",
    "            num_documents (int): Number of documents.\n",
    "            num_distinct_terms (int): Number of distinct terms.\n",
    "            sum_document_lengths (int): Sum of document lengths.\n",
    "        \"\"\"\n",
    "        if not isinstance(num_documents, int) or not isinstance(num_distinct_terms, int) or not isinstance(sum_document_lengths, int):\n",
    "            raise ValueError(\"Values must be integer.\")\n",
    "            \n",
    "        if num_documents < 0 or num_distinct_terms < 0 or sum_document_lengths < 0:\n",
    "            raise ValueError(\"Values must be positive.\")\n",
    "            \n",
    "        self.keys = ['Sum Document length','Document Index Size','Vocabulary Size']\n",
    "        self.values = [num_documents,num_distinct_terms,sum_document_lengths]\n",
    "\n",
    "    def save_statistics(self) -> None:\n",
    "        with open(\"Collection_statistics.txt\", \"w\") as f:\n",
    "            for i, index in enumerate(self.keys):\n",
    "                f.write(f\"{self.keys[i]}: {self.values[i]}\\n\")"
   ]
  }
 ],
 "metadata": {
  "kernelspec": {
   "display_name": "Python 3 (ipykernel)",
   "language": "python",
   "name": "python3"
  },
  "language_info": {
   "codemirror_mode": {
    "name": "ipython",
    "version": 3
   },
   "file_extension": ".py",
   "mimetype": "text/x-python",
   "name": "python",
   "nbconvert_exporter": "python",
   "pygments_lexer": "ipython3",
   "version": "3.11.6"
  }
 },
 "nbformat": 4,
 "nbformat_minor": 5
}
