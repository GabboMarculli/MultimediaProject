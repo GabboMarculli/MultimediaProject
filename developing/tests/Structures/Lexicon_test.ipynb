{
 "cells": [
  {
   "cell_type": "code",
   "execution_count": 1,
   "id": "0144940d-2ee7-4d87-a3df-7f36f3f808a5",
   "metadata": {},
   "outputs": [
    {
     "name": "stdout",
     "output_type": "stream",
     "text": [
      "importing Jupyter notebook from D:\\GitHub\\developing\\tests\\Structures\\../..\\structures\\Lexicon.ipynb\n",
      "importing Jupyter notebook from D:\\GitHub\\developing\\tests\\Structures\\../..\\structures\\LexiconRow.ipynb\n",
      "importing Jupyter notebook from D:\\GitHub\\developing\\tests\\Structures\\../..\\structures\\DocumentIndex.ipynb\n",
      "importing Jupyter notebook from D:\\GitHub\\developing\\tests\\Structures\\../..\\utilities\\General_Utilities.ipynb\n",
      "importing Jupyter notebook from D:\\GitHub\\developing\\tests\\Structures\\../..\\structures\\DocumentIndexRow.ipynb\n",
      "importing Jupyter notebook from D:\\GitHub\\developing\\tests\\Structures\\../..\\building_data_structures\\CollectionStatistics.ipynb\n"
     ]
    }
   ],
   "source": [
    "import import_ipynb\n",
    "from collections import OrderedDict\n",
    "from random import randint\n",
    "\n",
    "import os\n",
    "import sys\n",
    "sys.path.append('../../')  # Go up two folders to the project root\n",
    "\n",
    "from structures.Lexicon import Lexicon\n",
    "from structures.LexiconRow import LexiconRow"
   ]
  },
  {
   "cell_type": "code",
   "execution_count": 2,
   "id": "d5776eff-12be-4b94-8ecc-4b9e371af587",
   "metadata": {},
   "outputs": [],
   "source": [
    "import pytest\n",
    "import ipytest\n",
    "\n",
    "ipytest.autoconfig()"
   ]
  },
  {
   "cell_type": "code",
   "execution_count": 3,
   "id": "0beaa86c-f753-4721-a348-7ca0d44e6680",
   "metadata": {},
   "outputs": [
    {
     "name": "stdout",
     "output_type": "stream",
     "text": [
      "\u001b[32m.\u001b[0m\u001b[32m                                                                                            [100%]\u001b[0m\n",
      "\u001b[32m\u001b[32m\u001b[1m1 passed\u001b[0m\u001b[32m in 0.03s\u001b[0m\u001b[0m\n"
     ]
    }
   ],
   "source": [
    "%%ipytest\n",
    "\n",
    "def test_lexicon_add_term():\n",
    "    capacity = 5\n",
    "    lexicon = Lexicon(capacity)\n",
    "    assert lexicon.is_empty()\n",
    "    \n",
    "    lex_row = LexiconRow(\"test_term\", 10)\n",
    "    lexicon.add_term(lex_row)\n",
    "\n",
    "    key = \"test_term\".ljust(lex_row.MAX_TERM_LENGTH)\n",
    "\n",
    "    assert len(lexicon._vocabulary) == 1\n",
    "    assert lexicon._vocabulary == lexicon.get_structure()\n",
    "    \n",
    "    assert lexicon.get_terms(key).term == key\n",
    "    assert lexicon.get_terms(key).term == lex_row.term\n",
    "    assert lexicon.get_terms(key).dft == lex_row.dft\n",
    "\n",
    "    assert not lexicon.is_empty()\n",
    "\n",
    "    # Add 100 row to lexicon and test that:\n",
    "    # - size remains lower or equal than 5 all the time\n",
    "    # - structure follow the \"LRU\" cache replacement policy\n",
    "    lexicon.add_term(LexiconRow(\"term_1\", 1))\n",
    "    lexicon.add_term(LexiconRow(\"term_2\", 2))\n",
    "    lexicon.add_term(LexiconRow(\"term_3\", 3))\n",
    "    lexicon.add_term(LexiconRow(\"term_4\", 4))\n",
    "    for i in range(5, 100):\n",
    "        random_term = f\"term_{i}\"\n",
    "        lex_row = LexiconRow(random_term, i)\n",
    "    \n",
    "        lexicon.add_term(lex_row)\n",
    "        assert len(lexicon.get_structure()) <= 5\n",
    "        \n",
    "        counter = capacity - 1\n",
    "        for elem in lexicon.get_structure().values():\n",
    "            assert elem.term == f\"term_{int(i - counter)}\".ljust(lex_row.MAX_TERM_LENGTH)\n",
    "            counter = counter - 1   \n",
    "\n",
    "\n",
    "    lexicon.clear_structure()\n",
    "    assert lexicon.is_empty()\n",
    "    \n",
    "    found_entry = lexicon.find_entry(\"random_word_not_present_in_lexicon\")\n",
    "    assert found_entry == None\n",
    "    found_entry = lexicon.find_entry(\"happiness\")\n",
    "    assert found_entry.term == \"happiness\".ljust(lex_row.MAX_TERM_LENGTH)\n",
    "\n",
    "    assert lexicon.is_empty()\n",
    "    lex_row = lexicon.get_entry(\"happiness\")\n",
    "    assert not lexicon.is_empty()\n",
    "\n",
    "    key = \"happiness\".ljust(lex_row.MAX_TERM_LENGTH)\n",
    "    assert lexicon.get_terms(key).term == key\n",
    "    assert lexicon.get_terms(key).term == lex_row.term\n",
    "    assert lexicon.get_terms(key).dft == lex_row.dft"
   ]
  },
  {
   "cell_type": "code",
   "execution_count": null,
   "id": "967f2ff4-390b-4b58-a4a7-42fcc7790732",
   "metadata": {},
   "outputs": [],
   "source": []
  }
 ],
 "metadata": {
  "kernelspec": {
   "display_name": "Python 3 (ipykernel)",
   "language": "python",
   "name": "python3"
  },
  "language_info": {
   "codemirror_mode": {
    "name": "ipython",
    "version": 3
   },
   "file_extension": ".py",
   "mimetype": "text/x-python",
   "name": "python",
   "nbconvert_exporter": "python",
   "pygments_lexer": "ipython3",
   "version": "3.11.6"
  }
 },
 "nbformat": 4,
 "nbformat_minor": 5
}
