{
 "cells": [
  {
   "cell_type": "code",
   "execution_count": 1,
   "id": "347d3522",
   "metadata": {},
   "outputs": [
    {
     "name": "stdout",
     "output_type": "stream",
     "text": [
      "importing Jupyter notebook from C:\\Users\\Davide\\IR\\Progetto\\tests\\Structures\\../..\\structures\\BlockDescriptor.ipynb\n"
     ]
    }
   ],
   "source": [
    "import import_ipynb\n",
    "import os\n",
    "import sys\n",
    "sys.path.append('../../')  # Go up two folders to the project root\n",
    "\n",
    "\n",
    "from structures.BlockDescriptor import BlockDescriptor "
   ]
  },
  {
   "cell_type": "markdown",
   "id": "20a41240",
   "metadata": {},
   "source": [
    "# Tests"
   ]
  },
  {
   "cell_type": "code",
   "execution_count": 2,
   "id": "c7d2ed62",
   "metadata": {},
   "outputs": [],
   "source": [
    "import pytest\n",
    "import ipytest\n",
    "\n",
    "ipytest.autoconfig()"
   ]
  },
  {
   "cell_type": "code",
   "execution_count": 3,
   "id": "c584d9e2",
   "metadata": {},
   "outputs": [
    {
     "name": "stdout",
     "output_type": "stream",
     "text": [
      "\u001b[32m.\u001b[0m\u001b[32m.\u001b[0m\u001b[32m                                                                                           [100%]\u001b[0m\n",
      "\u001b[32m\u001b[32m\u001b[1m2 passed\u001b[0m\u001b[32m in 0.02s\u001b[0m\u001b[0m\n"
     ]
    }
   ],
   "source": [
    "%%ipytest\n",
    "\n",
    "#Remember the attributes of a block_descriptor\n",
    "\n",
    "#nr_postings:int=0,\n",
    "#offset_doc_ids:int=0,\n",
    "#offset_freqs:int=0,\n",
    "#doc_ids_bytes_size:int=0,\n",
    "#freq_bytes_size:int=0,\n",
    "#min_doc_id:int=0,\n",
    "#max_doc_id:int=0\n",
    "\n",
    "def test_write_block_descriptor_on_disk():\n",
    "    \n",
    "    b_d=BlockDescriptor(5,101,103,82,47,1,1002)\n",
    "    \n",
    "    assert b_d.nr_postings==5\n",
    "    assert b_d.offset_doc_ids==101\n",
    "    assert b_d.offset_freqs==103\n",
    "    assert b_d.doc_ids_bytes_size==82\n",
    "    assert b_d.freq_bytes_size==47\n",
    "    assert b_d.min_doc_id==1\n",
    "    assert b_d.max_doc_id==1002\n",
    "    \n",
    "    \n",
    "    if os.path.exists(\"prova.bin\"):\n",
    "        os.remove(\"prova.bin\")\n",
    "    \n",
    "    #Write a first block in the position 0\n",
    "    new_free_offset=b_d.write_block_descriptor_on_disk(\"prova.bin\",0)\n",
    "    \n",
    "    #Read it again and check all field are correctly present in binary format.\n",
    "    with open(\"prova.bin\", 'rb') as file:\n",
    "        binaryData=file.read()\n",
    "        \n",
    "        assert len(binaryData)==b_d.SIZE_BLOCK_DESCRIPTOR\n",
    "        assert binaryData[0]==101\n",
    "        assert binaryData[8]==103\n",
    "        assert binaryData[16]==5\n",
    "        assert binaryData[20]==82\n",
    "        assert binaryData[24]==47\n",
    "        assert binaryData[28]==1\n",
    "        assert binaryData[32]==234  #1002 splitted in 11101010 (low sign)\n",
    "        assert binaryData[33]==3    #1002 splitted in 11 (most sign)\n",
    "        assert new_free_offset==b_d.SIZE_BLOCK_DESCRIPTOR\n",
    "        \n",
    "    b_d_1=BlockDescriptor(6,156,198,12506,17893,10,90)   \n",
    "   \n",
    "    #Write a second block in the position returned from previous method.\n",
    "    new_free_offset=b_d_1.write_block_descriptor_on_disk(\"prova.bin\",new_free_offset)\n",
    "    \n",
    "    #Read all what is returned, check that the previous block is still present and new block is stored correctly\n",
    "    with open(\"prova.bin\", 'rb') as file:\n",
    "        binaryData=file.read()\n",
    "        \n",
    "        assert len(binaryData)==b_d.SIZE_BLOCK_DESCRIPTOR*2\n",
    "        assert binaryData[0]==101\n",
    "        assert binaryData[8]==103\n",
    "        assert binaryData[16]==5\n",
    "        assert binaryData[20]==82\n",
    "        assert binaryData[24]==47\n",
    "        assert binaryData[28]==1\n",
    "        assert binaryData[32]==234  #1002 splitted in 11101010 (low sign)\n",
    "        assert binaryData[33]==3    #1002 splitted in 11 (most sign)\n",
    "        \n",
    "        assert new_free_offset==b_d.SIZE_BLOCK_DESCRIPTOR*2\n",
    "        \n",
    "        #The same as before\n",
    "        \n",
    "        assert binaryData[36]==156\n",
    "        assert binaryData[44]==198\n",
    "        assert binaryData[52]==6\n",
    "        assert binaryData[56]==218 # 12506 splitted in 11011010 (low sign)\n",
    "        assert binaryData[57]==48  # 12506 splitted in 110000 (most sign)\n",
    "        assert binaryData[60]==229 # 17893 splitted in 11100101(low sign)\n",
    "        assert binaryData[61]==69  # 17893 splitted in 1000101(most sign)\n",
    "        assert binaryData[64]==10\n",
    "        assert binaryData[68]==90 \n",
    "    os.remove(\"prova.bin\") \n",
    "\n",
    "    \n",
    "def test_read_block_descriptor_on_disk():\n",
    "    \n",
    "    #Using previous tested write_block_descriptor_on_disk to write the same block as before.\n",
    "    #Now checking if the datastructure si correctly read from file and populated in memory.\n",
    "    b_d_1=BlockDescriptor(5,101,103,82,47,1,1002)\n",
    "    b_d_2=BlockDescriptor(6,156,198,12506,17893,10,90)  \n",
    "    \n",
    "    new_offset=b_d_1.write_block_descriptor_on_disk(\"prova.bin\",0)\n",
    "    b_d_2.write_block_descriptor_on_disk(\"prova.bin\",new_offset)\n",
    "    \n",
    "    new_block_descriptor_1=BlockDescriptor()\n",
    "    new_block_descriptor_1.read_block_descriptor_on_disk(\"prova.bin\",0)\n",
    "    \n",
    "    assert new_block_descriptor_1.nr_postings==b_d_1.nr_postings\n",
    "    assert new_block_descriptor_1.offset_doc_ids==b_d_1.offset_doc_ids\n",
    "    assert new_block_descriptor_1.offset_freqs==b_d_1.offset_freqs\n",
    "    assert new_block_descriptor_1.doc_ids_bytes_size==b_d_1.doc_ids_bytes_size\n",
    "    assert new_block_descriptor_1.freq_bytes_size==b_d_1.freq_bytes_size\n",
    "    assert new_block_descriptor_1.min_doc_id==b_d_1.min_doc_id\n",
    "    assert new_block_descriptor_1.max_doc_id==b_d_1.max_doc_id\n",
    "    \n",
    "    new_block_descriptor_2=BlockDescriptor()\n",
    "    new_block_descriptor_2.read_block_descriptor_on_disk(\"prova.bin\",new_offset)\n",
    "    \n",
    "    assert new_block_descriptor_2.nr_postings==b_d_2.nr_postings\n",
    "    assert new_block_descriptor_2.offset_doc_ids==b_d_2.offset_doc_ids\n",
    "    assert new_block_descriptor_2.offset_freqs==b_d_2.offset_freqs\n",
    "    assert new_block_descriptor_2.doc_ids_bytes_size==b_d_2.doc_ids_bytes_size\n",
    "    assert new_block_descriptor_2.freq_bytes_size==b_d_2.freq_bytes_size\n",
    "    assert new_block_descriptor_2.min_doc_id==b_d_2.min_doc_id\n",
    "    assert new_block_descriptor_2.max_doc_id==b_d_2.max_doc_id\n",
    "    \n",
    "    #Finally check if I try to read something at non valid offset position.\n",
    "    assert new_block_descriptor_2.read_block_descriptor_on_disk(\"prova.bin\",800) == None\n",
    "    \n",
    "    \n",
    "    os.remove(\"prova.bin\") \n",
    "    "
   ]
  }
 ],
 "metadata": {
  "kernelspec": {
   "display_name": "Python 3 (ipykernel)",
   "language": "python",
   "name": "python3"
  },
  "language_info": {
   "codemirror_mode": {
    "name": "ipython",
    "version": 3
   },
   "file_extension": ".py",
   "mimetype": "text/x-python",
   "name": "python",
   "nbconvert_exporter": "python",
   "pygments_lexer": "ipython3",
   "version": "3.9.13"
  }
 },
 "nbformat": 4,
 "nbformat_minor": 5
}
