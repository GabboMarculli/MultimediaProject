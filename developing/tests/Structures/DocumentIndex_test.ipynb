{
 "cells": [
  {
   "cell_type": "code",
   "execution_count": 1,
   "id": "2b3f13fd-b4fe-4a77-b9b3-b580f1b0fa5b",
   "metadata": {},
   "outputs": [
    {
     "name": "stdout",
     "output_type": "stream",
     "text": [
      "importing Jupyter notebook from C:\\Users\\Davide\\IR\\Progetto\\tests\\Structures\\../..\\structures\\DocumentIndex.ipynb\n",
      "importing Jupyter notebook from C:\\Users\\Davide\\IR\\Progetto\\tests\\Structures\\../..\\utilities\\General_Utilities.ipynb\n",
      "importing Jupyter notebook from C:\\Users\\Davide\\IR\\Progetto\\tests\\Structures\\../..\\structures\\DocumentIndexRow.ipynb\n"
     ]
    }
   ],
   "source": [
    "import import_ipynb\n",
    "import os\n",
    "import sys\n",
    "sys.path.append('../../')  # Go up two folders to the project root\n",
    "\n",
    "\n",
    "from structures.DocumentIndex import DocumentIndex \n",
    "from structures.DocumentIndexRow import DocumentIndexRow"
   ]
  },
  {
   "cell_type": "code",
   "execution_count": 2,
   "id": "96cde69c-bbfb-4bcd-894b-80681115e606",
   "metadata": {},
   "outputs": [],
   "source": [
    "import pytest\n",
    "import ipytest\n",
    "\n",
    "ipytest.autoconfig()"
   ]
  },
  {
   "cell_type": "code",
   "execution_count": 5,
   "id": "dc23f5ee-c3c7-47e4-a7a7-625116284bca",
   "metadata": {},
   "outputs": [
    {
     "name": "stdout",
     "output_type": "stream",
     "text": [
      "\u001b[32m.\u001b[0m\u001b[32m                                                                                            [100%]\u001b[0m\n",
      "\u001b[32m\u001b[32m\u001b[1m1 passed\u001b[0m\u001b[32m in 0.01s\u001b[0m\u001b[0m\n"
     ]
    }
   ],
   "source": [
    "%%ipytest\n",
    "\n",
    "#Pay attention: because of it has been declared as singleton variable, if you execute multiple times on the same jupyter\n",
    "#notebook it will fail after the first execution time, unless you restart the notebook. Ask G.Marcuccetti\n",
    "\n",
    "# TEST FOR \"DOCUMENT INDEX\"\n",
    "def test_document_index_structure():\n",
    "    doc = DocumentIndex()\n",
    "\n",
    "    doc.add_document(1,\"doc_name_1\", \"Information retrieval system\")\n",
    "    \n",
    "    assert doc.is_empty() == False\n",
    "    document = doc.get_document(1)\n",
    "    assert document.doc_id==1\n",
    "    assert document.doc_no.strip()==\"doc_name_1\"\n",
    "    assert document.document_length == 3\n",
    "\n",
    "    \n",
    "    assert doc.number_of_documents == 1\n",
    "    assert doc.total_document_length == 3\n",
    "\n",
    "    doc.add_document(2, \"doc_name2\",\"Document index\")\n",
    "    doc.add_document(3, \"doc_name3\",\"My name is Pippo\")\n",
    "    assert doc.get_document(2).document_length == 2\n",
    "    assert doc.get_document(3).document_length == 4\n",
    "\n",
    "    assert doc.number_of_documents == 3\n",
    "    assert doc.total_document_length == 9\n",
    "\n",
    "    assert doc.get_document(5) is None\n",
    "\n",
    "    doc.add_document(4, \"\",\"\")\n",
    "    assert doc.get_document(4).document_length == 0\n",
    "\n",
    "    # create a copy of the structure and test if copy is equal\n",
    "    doc_aux = doc.get_structure()\n",
    "    assert doc.get_document(3).doc_id==doc_aux[3].doc_id and doc.get_document(3).document_length == doc_aux[3].document_length\n",
    "    # test singleton\n",
    "    doc2 = DocumentIndex()\n",
    "    assert doc2.get_document(1).document_length == 3\n",
    "    doc2.add_document(5,\"doc_no_5\",\"Test for singleton class\")\n",
    "    assert doc.get_document(5) == doc2.get_document(5)\n",
    "\n",
    "    # test if \"clear_structure\" works\n",
    "    assert doc.is_empty() == False\n",
    "    doc.clear_structure()\n",
    "    assert doc.is_empty() ==True\n",
    "\n",
    "    # Try to pass \"doc_id\" as a string\n",
    "    try:\n",
    "        doc.add_document(\"hello\", \"hello\",\"\")\n",
    "        assert 1==0\n",
    "    except ValueError as e:\n",
    "        assert 1==1\n",
    "\n",
    "    # Try to pass \"text\" as a integer\n",
    "    try:\n",
    "        doc.add_document(5, 5,\"\")\n",
    "        assert 1==0\n",
    "    except ValueError as e:\n",
    "        assert 1==1"
   ]
  },
  {
   "cell_type": "code",
   "execution_count": 6,
   "id": "6d299c74",
   "metadata": {},
   "outputs": [
    {
     "name": "stdout",
     "output_type": "stream",
     "text": [
      "\u001b[32m.\u001b[0m\u001b[32m                                                                                            [100%]\u001b[0m\n",
      "\u001b[32m\u001b[32m\u001b[1m1 passed\u001b[0m\u001b[32m in 0.01s\u001b[0m\u001b[0m\n"
     ]
    }
   ],
   "source": [
    "%%ipytest\n",
    "def test_write_document_index_to_file():\n",
    "    \n",
    "    if os.path.exists(\"prova.bin\"):\n",
    "        os.remove(\"prova.bin\")\n",
    "    \n",
    "    doc = DocumentIndex()\n",
    "\n",
    "    doc.add_document(1,\"doc_name_1\", \"Information retrieval system\")\n",
    "    doc.add_document(2,\"doc_name2\", \"Document index\")\n",
    "    \n",
    "    try:\n",
    "    \n",
    "        file=open(\"prova.bin\",\"ab\")\n",
    "\n",
    "        doc.write_document_index_to_file(file,0)\n",
    "       \n",
    "        file.close()\n",
    "        \n",
    "\n",
    "        file=open(\"prova.bin\",\"rb\")\n",
    "        \n",
    "        temp=file.read()\n",
    "        print(temp)\n",
    "        assert temp[0]==1\n",
    "        assert temp[1]==0\n",
    "        assert temp[2]==0\n",
    "        assert temp[3]==0\n",
    "        assert temp[4]==0\n",
    "        assert temp[5]==0\n",
    "        assert temp[6]==0\n",
    "        assert temp[7]==0\n",
    "        assert temp[8]==100 #d\n",
    "        assert temp[9]==111 #o\n",
    "        assert temp[10]==99 #c\n",
    "        assert temp[11]==95 #_\n",
    "        assert temp[12]==110 #n\n",
    "        assert temp[13]==97 #a\n",
    "        #....\n",
    "        assert temp[30]==32 # white spaces\n",
    "        assert temp[39]==0 # \n",
    "        assert temp[40]==3 # as the number of words in the sentence\n",
    "\n",
    "        assert temp[52]==100 #d\n",
    "        assert temp[53]==111 #o\n",
    "        assert temp[54]==99 #c\n",
    "        assert temp[55]==95 #_\n",
    "        assert temp[56]==110 #n\n",
    "        assert temp[57]==97 # a\n",
    "        assert temp[58]==109 # m\n",
    "        assert temp[59]==101 #e\n",
    "        assert temp[60]==50 # 2\n",
    "        assert temp[61]==32 #  white space\n",
    "    \n",
    "        file.close()\n",
    "        \n",
    "        \n",
    "    except Exception as e:   \n",
    "            print (e) \n",
    "    finally:\n",
    "        file.close()\n",
    "        \n",
    "    \n",
    "    if os.path.exists(\"prova.bin\"):\n",
    "        os.remove(\"prova.bin\")\n",
    "    "
   ]
  },
  {
   "cell_type": "code",
   "execution_count": null,
   "id": "543f3c6a",
   "metadata": {},
   "outputs": [],
   "source": []
  }
 ],
 "metadata": {
  "kernelspec": {
   "display_name": "Python 3 (ipykernel)",
   "language": "python",
   "name": "python3"
  },
  "language_info": {
   "codemirror_mode": {
    "name": "ipython",
    "version": 3
   },
   "file_extension": ".py",
   "mimetype": "text/x-python",
   "name": "python",
   "nbconvert_exporter": "python",
   "pygments_lexer": "ipython3",
   "version": "3.9.13"
  }
 },
 "nbformat": 4,
 "nbformat_minor": 5
}
