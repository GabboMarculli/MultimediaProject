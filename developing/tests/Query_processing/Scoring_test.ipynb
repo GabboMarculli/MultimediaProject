{
 "cells": [
  {
   "cell_type": "code",
   "execution_count": 1,
   "id": "c9312107-a853-42d8-938c-bfbf22e1d569",
   "metadata": {},
   "outputs": [
    {
     "name": "stdout",
     "output_type": "stream",
     "text": [
      "importing Jupyter notebook from C:\\Users\\gabri\\Documents\\GitHub\\tests\\Query_processing\\../..\\query_processing\\Scoring.ipynb\n",
      "importing Jupyter notebook from C:\\Users\\gabri\\Documents\\GitHub\\tests\\Query_processing\\../..\\structures\\DocumentIndex.ipynb\n",
      "importing Jupyter notebook from C:\\Users\\gabri\\Documents\\GitHub\\tests\\Query_processing\\../..\\utilities\\General_Utilities.ipynb\n",
      "importing Jupyter notebook from C:\\Users\\gabri\\Documents\\GitHub\\tests\\Query_processing\\../..\\structures\\DocumentIndexRow.ipynb\n",
      "importing Jupyter notebook from C:\\Users\\gabri\\Documents\\GitHub\\tests\\Query_processing\\../..\\structures\\LexiconRow.ipynb\n",
      "importing Jupyter notebook from C:\\Users\\gabri\\Documents\\GitHub\\tests\\Query_processing\\../..\\building_data_structures\\CollectionStatistics.ipynb\n"
     ]
    }
   ],
   "source": [
    "import import_ipynb\n",
    "import sys\n",
    "sys.path.append('../../')  # Go up two folders to the project root\n",
    "\n",
    "from query_processing import Scoring as sc\n",
    "\n",
    "import ipytest\n",
    "ipytest.autoconfig()"
   ]
  },
  {
   "cell_type": "code",
   "execution_count": 2,
   "id": "a2cc7e3e-015d-4d27-8037-f3e590e76a39",
   "metadata": {},
   "outputs": [
    {
     "name": "stdout",
     "output_type": "stream",
     "text": [
      "50\n"
     ]
    },
    {
     "ename": "AssertionError",
     "evalue": "assert 1.2218487496163564 == -0.40546510810816444\n +  where 1.2218487496163564 = <bound method Scoring.compute_IDFT of <query_processing.Scoring.Scoring object at 0x00000155B1CDD110>>(3)\n +    where <bound method Scoring.compute_IDFT of <query_processing.Scoring.Scoring object at 0x00000155B1CDD110>> = <query_processing.Scoring.Scoring object at 0x00000155B1CDD110>.compute_IDFT",
     "output_type": "error",
     "traceback": [
      "\u001b[1;31m---------------------------------------------------------------------------\u001b[0m",
      "\u001b[1;31mAssertionError\u001b[0m                            Traceback (most recent call last)",
      "Cell \u001b[1;32mIn[2], line 4\u001b[0m\n\u001b[0;32m      1\u001b[0m score \u001b[38;5;241m=\u001b[39m sc\u001b[38;5;241m.\u001b[39mScoring()\n\u001b[0;32m      3\u001b[0m \u001b[38;5;66;03m# test compute_IDFT\u001b[39;00m\n\u001b[1;32m----> 4\u001b[0m \u001b[38;5;28;01massert\u001b[39;00m score\u001b[38;5;241m.\u001b[39mcompute_IDFT(\u001b[38;5;241m3\u001b[39m) \u001b[38;5;241m==\u001b[39m \u001b[38;5;241m-\u001b[39m\u001b[38;5;241m0.40546510810816444\u001b[39m \u001b[38;5;66;03m# ln(2/3) == -0.40546510810816444\u001b[39;00m\n\u001b[0;32m      5\u001b[0m \u001b[38;5;28;01massert\u001b[39;00m score\u001b[38;5;241m.\u001b[39mcompute_IDFT(\u001b[38;5;241m8\u001b[39m) \u001b[38;5;241m==\u001b[39m \u001b[38;5;241m-\u001b[39m\u001b[38;5;241m1.3862943611198906\u001b[39m  \u001b[38;5;66;03m# ln(2/8) == -1.3862943611198906\u001b[39;00m\n\u001b[0;32m      6\u001b[0m \u001b[38;5;28;01massert\u001b[39;00m score\u001b[38;5;241m.\u001b[39mcompute_IDFT(\u001b[38;5;241m1\u001b[39m) \u001b[38;5;241m==\u001b[39m  \u001b[38;5;241m0.6931471805599453\u001b[39m  \u001b[38;5;66;03m# ln(2)   ==  0.6931471805599453\u001b[39;00m\n",
      "\u001b[1;31mAssertionError\u001b[0m: assert 1.2218487496163564 == -0.40546510810816444\n +  where 1.2218487496163564 = <bound method Scoring.compute_IDFT of <query_processing.Scoring.Scoring object at 0x00000155B1CDD110>>(3)\n +    where <bound method Scoring.compute_IDFT of <query_processing.Scoring.Scoring object at 0x00000155B1CDD110>> = <query_processing.Scoring.Scoring object at 0x00000155B1CDD110>.compute_IDFT"
     ]
    },
    {
     "name": "stdout",
     "output_type": "stream",
     "text": [
      "\n",
      "\u001b[33m\u001b[33mno tests ran\u001b[0m\u001b[33m in 0.02s\u001b[0m\u001b[0m\n"
     ]
    }
   ],
   "source": [
    "%%ipytest\n",
    "\n",
    "# CAMBIA A SECONDA DI COME VIENE IL COLLECTION STATISTICS FINALE\n",
    "score = sc.Scoring()\n",
    "\n",
    "# test compute_IDFT\n",
    "assert score.compute_IDFT(3) == -0.40546510810816444 # ln(2/3) == -0.40546510810816444\n",
    "assert score.compute_IDFT(8) == -1.3862943611198906  # ln(2/8) == -1.3862943611198906\n",
    "assert score.compute_IDFT(1) ==  0.6931471805599453  # ln(2)   ==  0.6931471805599453\n",
    "\n",
    "try: \n",
    "    score.compute_IDFT(-5)\n",
    "except ValueError as e:\n",
    "    assert str(e) == \"Invalid parameters.\"\n",
    "\n",
    "# test compute_TFIDF\n",
    "assert score.compute_TFIDF(3, -0.40546510810816444) == -0.8509140585019376 # (1 + math.log(3)) * -0.40546510810816444 = 2.0986122886681 * -0.40546510810816444\n",
    "assert score.compute_TFIDF(2, 0.6931471805599453)   ==  1.1736001944781467 # (1 + 0.69314718055995) * 0.6931471805599453 \n",
    "assert score.compute_TFIDF(-5, 0.245543234545434) == 0\n",
    "\n",
    "try:\n",
    "    compute_TFIDF(2, \"hello\")\n",
    "except ValueError as e:\n",
    "    assert str(e) == \"Invalid parameters.\"\n",
    "\n",
    "# test compute BM25\n",
    "# il document index in questo caso è fatto così:\n",
    "# (1, \"Information retrieval system\")\n",
    "# (2, \"Information retrieval project\")\n",
    "# PROVIAMO A CALCOLARE 1 SINGOLO CONTRIBUTO DELLA SOMMATORIA DEL BM25 DATO DA UNA QUERY COMPOSTA DAL SOLO TERMINE \"system\"\n",
    "# NEL NOSTRO CASO \"system\" COMPARE IN 1 DOCUMENTO, HA DFT=1\n",
    "log_tf = (1 + math.log(1)) # LA TERM FREQUENCIES DI \"system\" NEL DOCUMENTO CON DOC_ID = 1 è 1, COMPARE UNA SOLA VOLTA\n",
    "avgDL = compute_avgDL(valid_document_index) # LA LUNGHEZZA MEDIA DEI DOCUMENTI E' 3\n",
    "doc_len = valid_document_index.get_document(1).document_length # IL DOCUMENTO IN QUESTIONE E' COMPOSTO DA 3 TERMINI\n",
    "assert idf == 0.6931471805599453\n",
    "assert avgDL == 3\n",
    "assert log_tf == 1\n",
    "assert doc_len == 3\n",
    "assert float((idf * log_tf)/(log_tf + 1.6 * ( (1 - 0.75) + 0.75 * (doc_len/avgDL) ))) == 0.2665950694461328\n",
    "assert compute_BM25_term(valid_document_index, 1, idf, 1) == 0.2665950694461328"
   ]
  },
  {
   "cell_type": "code",
   "execution_count": null,
   "id": "1bf393f4-eaa4-49a3-9312-b5c008fc78ef",
   "metadata": {},
   "outputs": [],
   "source": []
  }
 ],
 "metadata": {
  "kernelspec": {
   "display_name": "Python 3 (ipykernel)",
   "language": "python",
   "name": "python3"
  },
  "language_info": {
   "codemirror_mode": {
    "name": "ipython",
    "version": 3
   },
   "file_extension": ".py",
   "mimetype": "text/x-python",
   "name": "python",
   "nbconvert_exporter": "python",
   "pygments_lexer": "ipython3",
   "version": "3.11.6"
  }
 },
 "nbformat": 4,
 "nbformat_minor": 5
}
