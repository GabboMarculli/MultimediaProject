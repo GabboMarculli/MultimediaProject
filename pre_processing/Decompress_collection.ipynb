{
 "cells": [
  {
   "cell_type": "code",
   "execution_count": 2,
   "id": "7104e7ab-9d07-43de-82c0-5061dfb7f246",
   "metadata": {},
   "outputs": [
    {
     "ename": "ImportError",
     "evalue": "cannot import name 'TextProcessor' from 'pre_processing' (unknown location)",
     "output_type": "error",
     "traceback": [
      "\u001b[1;31m---------------------------------------------------------------------------\u001b[0m",
      "\u001b[1;31mImportError\u001b[0m                               Traceback (most recent call last)",
      "\u001b[1;32m~\\AppData\\Local\\Temp\\ipykernel_632\\1058426856.py\u001b[0m in \u001b[0;36m<module>\u001b[1;34m\u001b[0m\n\u001b[0;32m      5\u001b[0m \u001b[0msys\u001b[0m\u001b[1;33m.\u001b[0m\u001b[0mpath\u001b[0m\u001b[1;33m.\u001b[0m\u001b[0mappend\u001b[0m\u001b[1;33m(\u001b[0m\u001b[1;34m'../'\u001b[0m\u001b[1;33m)\u001b[0m\u001b[1;33m\u001b[0m\u001b[1;33m\u001b[0m\u001b[0m\n\u001b[0;32m      6\u001b[0m \u001b[1;33m\u001b[0m\u001b[0m\n\u001b[1;32m----> 7\u001b[1;33m \u001b[1;32mfrom\u001b[0m \u001b[0mpre_processing\u001b[0m \u001b[1;32mimport\u001b[0m \u001b[0mTextProcessor\u001b[0m\u001b[1;33m\u001b[0m\u001b[1;33m\u001b[0m\u001b[0m\n\u001b[0m",
      "\u001b[1;31mImportError\u001b[0m: cannot import name 'TextProcessor' from 'pre_processing' (unknown location)"
     ]
    }
   ],
   "source": [
    "import gzip\n",
    "import io\n",
    "\n",
    "import sys\n",
    "sys.path.append('../')\n",
    "\n",
    "from pre_processing import TextProcessor"
   ]
  },
  {
   "cell_type": "code",
   "execution_count": null,
   "id": "83a7c96d-5929-41df-8a87-a8ad83a85a28",
   "metadata": {},
   "outputs": [],
   "source": [
    "def parse_compressed_tsv_line_by_line(compressed_file_path):\n",
    "    try:\n",
    "        with open(compressed_file_path, 'rb') as f:\n",
    "            text_processor = TextProcessor()\n",
    "            with gzip.GzipFile(fileobj=f) as gz:\n",
    "                buffer = io.TextIOWrapper(gz, encoding='utf-8')\n",
    "\n",
    "                # C'è bisogno di leggere la prima riga a parte perchè essa inizia con i seguenti metadati \"# collection.tsv0000777000175000017502663675055413400073633015704 0ustar  spacemanidolspacemanidol0 \"\n",
    "                # Quindi prima di entrare nel ciclo che legge tutte le righe, elimino questo prefisso\n",
    "                first_line = next(buffer)  # Leggi la prima riga\n",
    "                cleaned_first_line = ' '.join(first_line.split()[3:])  # Rimuovi la parte iniziale indesiderata\n",
    "                text_processor.process_text(text)(0, cleaned_first_line)\n",
    "\n",
    "                for line in buffer:\n",
    "                    pid, text = line.strip().split('\\t')\n",
    "                    text_processor.process_text(text)(pid, text)\n",
    "\n",
    "    except FileNotFoundError:\n",
    "        print(f\"File {compressed_file_path} non trovato.\")\n",
    "    except Exception as e:\n",
    "        print(f\"Si è verificato un errore durante l'analisi del file {compressed_file_path}: {e}\")\n",
    "\n",
    "# Esempio di utilizzo\n",
    "#parse_compressed_tsv_line_by_line('collection.tar.gz')\n",
    "\n",
    "# Specifica il percorso del file TSV\n",
    "file_path = \"collection_cleaned.tsv\"\n",
    "with open(file_path, 'rb') as f:\n",
    "    count = 0\n",
    "    for line in f:\n",
    "        print(line)\n",
    "        count = count + 1\n",
    "        if count == 5:\n",
    "            break"
   ]
  },
  {
   "cell_type": "code",
   "execution_count": null,
   "id": "15d19311-9b6f-48dc-805f-eb1ac7997285",
   "metadata": {},
   "outputs": [],
   "source": []
  }
 ],
 "metadata": {
  "kernelspec": {
   "display_name": "Python 3 (ipykernel)",
   "language": "python",
   "name": "python3"
  },
  "language_info": {
   "codemirror_mode": {
    "name": "ipython",
    "version": 3
   },
   "file_extension": ".py",
   "mimetype": "text/x-python",
   "name": "python",
   "nbconvert_exporter": "python",
   "pygments_lexer": "ipython3",
   "version": "3.9.13"
  }
 },
 "nbformat": 4,
 "nbformat_minor": 5
}
