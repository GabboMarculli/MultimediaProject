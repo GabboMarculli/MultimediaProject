{
 "cells": [
  {
   "cell_type": "code",
   "execution_count": 1,
   "id": "7104e7ab-9d07-43de-82c0-5061dfb7f246",
   "metadata": {},
   "outputs": [
    {
     "ename": "ImportError",
     "evalue": "cannot import name 'TextProcessor' from 'pre_processing' (unknown location)",
     "output_type": "error",
     "traceback": [
      "\u001b[1;31m---------------------------------------------------------------------------\u001b[0m",
      "\u001b[1;31mImportError\u001b[0m                               Traceback (most recent call last)",
      "Cell \u001b[1;32mIn[1], line 7\u001b[0m\n\u001b[0;32m      4\u001b[0m \u001b[38;5;28;01mimport\u001b[39;00m \u001b[38;5;21;01msys\u001b[39;00m\n\u001b[0;32m      5\u001b[0m sys\u001b[38;5;241m.\u001b[39mpath\u001b[38;5;241m.\u001b[39mappend(\u001b[38;5;124m'\u001b[39m\u001b[38;5;124m../\u001b[39m\u001b[38;5;124m'\u001b[39m)\n\u001b[1;32m----> 7\u001b[0m \u001b[38;5;28;01mfrom\u001b[39;00m \u001b[38;5;21;01mpre_processing\u001b[39;00m \u001b[38;5;28;01mimport\u001b[39;00m TextProcessor\n",
      "\u001b[1;31mImportError\u001b[0m: cannot import name 'TextProcessor' from 'pre_processing' (unknown location)"
     ]
    }
   ],
   "source": [
    "import gzip\n",
    "import io\n",
    "\n",
    "import sys\n",
    "sys.path.append('../')\n",
    "\n",
    "from pre_processing import TextProcessor"
   ]
  },
  {
   "cell_type": "code",
   "execution_count": null,
   "id": "83a7c96d-5929-41df-8a87-a8ad83a85a28",
   "metadata": {},
   "outputs": [],
   "source": [
    "def parse_compressed_tsv_line_by_line(compressed_file_path):\n",
    "    try:\n",
    "        with open(compressed_file_path, 'rb') as f:\n",
    "            text_processor = TextProcessor()\n",
    "            with gzip.GzipFile(fileobj=f) as gz:\n",
    "                buffer = io.TextIOWrapper(gz, encoding='utf-8')\n",
    "\n",
    "                # C'è bisogno di leggere la prima riga a parte perchè essa inizia con i seguenti metadati \"# collection.tsv0000777000175000017502663675055413400073633015704 0ustar  spacemanidolspacemanidol0 \"\n",
    "                # Quindi prima di entrare nel ciclo che legge tutte le righe, elimino questo prefisso\n",
    "                first_line = next(buffer)  # Leggi la prima riga\n",
    "                cleaned_first_line = ' '.join(first_line.split()[3:])  # Rimuovi la parte iniziale indesiderata\n",
    "                text_processor.process_text(text)(0, cleaned_first_line)\n",
    "\n",
    "                for line in buffer:\n",
    "                    pid, text = line.strip().split('\\t')\n",
    "                    text_processor.process_text(text)(pid, text)\n",
    "\n",
    "    except FileNotFoundError:\n",
    "        print(f\"File {compressed_file_path} non trovato.\")\n",
    "    except Exception as e:\n",
    "        print(f\"Si è verificato un errore durante l'analisi del file {compressed_file_path}: {e}\")\n",
    "\n",
    "# Esempio di utilizzo\n",
    "#parse_compressed_tsv_line_by_line('collection.tar.gz')\n",
    "\n",
    "# Specifica il percorso del file TSV\n",
    "file_path = \"collection_cleaned.tsv\"\n",
    "with open(file_path, 'rb') as f:\n",
    "    count = 0\n",
    "    for line in f:\n",
    "        print(line)\n",
    "        count = count + 1\n",
    "        if count == 5:\n",
    "            break"
   ]
  },
  {
   "cell_type": "code",
   "execution_count": null,
   "id": "15d19311-9b6f-48dc-805f-eb1ac7997285",
   "metadata": {},
   "outputs": [],
   "source": []
  }
 ],
 "metadata": {
  "kernelspec": {
   "display_name": "Python 3 (ipykernel)",
   "language": "python",
   "name": "python3"
  },
  "language_info": {
   "codemirror_mode": {
    "name": "ipython",
    "version": 3
   },
   "file_extension": ".py",
   "mimetype": "text/x-python",
   "name": "python",
   "nbconvert_exporter": "python",
   "pygments_lexer": "ipython3",
   "version": "3.11.6"
  }
 },
 "nbformat": 4,
 "nbformat_minor": 5
}
