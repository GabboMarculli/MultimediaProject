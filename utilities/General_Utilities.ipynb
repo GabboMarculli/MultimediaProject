{
 "cells": [
  {
   "cell_type": "code",
   "execution_count": 1,
   "id": "7fb55560",
   "metadata": {},
   "outputs": [],
   "source": [
    "import psutil\n",
    "\n",
    "def get_available_memory():\n",
    "    \"\"\"\n",
    "        Function to compute the available memory at runtime.\n",
    "        \n",
    "    \"\"\"\n",
    "    \n",
    "    # Get available memory in bytes\n",
    "    available_memory = psutil.virtual_memory().available\n",
    "\n",
    "    # Convert bytes to a more human-readable format\n",
    "    available_memory_str = psutil.virtual_memory().available / (1024**3)  \n",
    "    \n",
    "    print(f\"Available memory: {available_memory} bytes\")\n",
    "    print(f\"Available memory: {available_memory_str:.2f} GB\")\n",
    "    \n",
    "    return available_memory_str\n",
    "    "
   ]
  },
  {
   "cell_type": "code",
   "execution_count": 2,
   "id": "03fefecf",
   "metadata": {},
   "outputs": [],
   "source": [
    "class Singleton: \n",
    "    # Private variable to hold the unique instance of the class\n",
    "    _instance = None\n",
    " \n",
    "    \"\"\"\n",
    "        Checks if the instance already exists and returns the existing instance.\n",
    "        If the instance does not exist, it creates a new instance and returns it.\n",
    "    \"\"\"\n",
    "    def __new__(cls, *args, **kwargs):\n",
    "        if not cls._instance:\n",
    "            cls._instance = super(Singleton, cls).__new__(cls, *args, **kwargs)\n",
    "            cls._instance._index = None\n",
    "        return cls._instance\n",
    "        \n",
    "def create_folder(folder_name: str) -> None :\n",
    "    \"\"\" Create a folder called \"folder_name\" \"\"\"\n",
    "    if not os.path.exists(folder_name):\n",
    "        os.makedirs(folder_name)\n",
    "        "
   ]
  },
  {
   "cell_type": "code",
   "execution_count": 2,
   "id": "6e6ec8e3",
   "metadata": {},
   "outputs": [],
   "source": [
    "#Used for compression tests\n",
    "\n",
    "def write_binary_file(binary_element:bytearray,file_path:str=\"binary_file.txt\"):\n",
    "    # Open the file in binary write mode ('wb')\n",
    "    with open(file_path, 'wb') as file:\n",
    "        file.write(binary_element)\n",
    "        \n",
    "def read_binary_file(file_path):\n",
    "    with open(file_path, 'rb') as file:\n",
    "        # Write the byte array to the file\n",
    "        all_data=file.read()\n",
    "        return all_data\n",
    "    \n",
    "# Define a function to write the integers to a file in append mode\n",
    "def write_integers_to_file(filename, integer_list):\n",
    "    with open(filename, 'a') as file:\n",
    "        for integer in integer_list:\n",
    "            file.write(str(integer))"
   ]
  },
  {
   "cell_type": "code",
   "execution_count": null,
   "id": "fc97102d",
   "metadata": {},
   "outputs": [],
   "source": []
  }
 ],
 "metadata": {
  "kernelspec": {
   "display_name": "Python 3 (ipykernel)",
   "language": "python",
   "name": "python3"
  },
  "language_info": {
   "codemirror_mode": {
    "name": "ipython",
    "version": 3
   },
   "file_extension": ".py",
   "mimetype": "text/x-python",
   "name": "python",
   "nbconvert_exporter": "python",
   "pygments_lexer": "ipython3",
   "version": "3.11.6"
  }
 },
 "nbformat": 4,
 "nbformat_minor": 5
}
