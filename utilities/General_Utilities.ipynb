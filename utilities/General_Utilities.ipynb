{
 "cells": [
  {
   "cell_type": "code",
   "execution_count": 4,
   "id": "cad5edda",
   "metadata": {},
   "outputs": [],
   "source": [
    "import psutil\n",
    "import difflib\n",
    "import gzip\n",
    "from io import BytesIO"
   ]
  },
  {
   "cell_type": "code",
   "execution_count": 6,
   "id": "7fb55560",
   "metadata": {},
   "outputs": [],
   "source": [
    "def get_available_memory()-> int:\n",
    "    \"\"\"\n",
    "        Function to compute the available memory at runtime.\n",
    "    Return\n",
    "        The available memory in bytes \n",
    "    \"\"\"\n",
    "    # Get available memory in bytes\n",
    "    available_memory = psutil.virtual_memory().available\n",
    "    \n",
    "    # Convert bytes to a more human-readable format\n",
    "    available_memory_str = psutil.virtual_memory().available / (1024**3)  \n",
    "    \n",
    "    print(f\"Available memory: {available_memory} bytes\")\n",
    "    print(f\"Available memory: {available_memory_str:.2f} GB\")\n",
    "    \n",
    "    return available_memory\n",
    "#get_available_memory()   "
   ]
  },
  {
   "cell_type": "code",
   "execution_count": null,
   "id": "03fefecf",
   "metadata": {},
   "outputs": [],
   "source": [
    "def print_diff(string1:str, string2:str):\n",
    "    \"\"\"\n",
    "        Given two strings outputs the difference between them in a pretty format.\n",
    "    \"\"\"\n",
    "    d = difflib.Differ()\n",
    "    diff = d.compare(string1.splitlines(), string2.splitlines())\n",
    "    print('\\n'.join(diff))\n",
    "\n",
    "# Example strings\n",
    "#string1 = \"This is a sample text.\"\n",
    "#string2 = \"This is an example text.\"\n",
    "\n",
    "# Print the differences\n",
    "#print_diff(string1, string2)"
   ]
  },
  {
   "cell_type": "code",
   "execution_count": 2,
   "id": "6e6ec8e3",
   "metadata": {},
   "outputs": [],
   "source": [
    "#Used for compression tests\n",
    "\n",
    "def write_binary_file(binary_element:bytearray,file_path:str=\"binary_file.txt\"):\n",
    "    # Open the file in binary write mode ('wb')\n",
    "    with open(file_path, 'wb') as file:\n",
    "        file.write(binary_element)\n",
    "        \n",
    "def read_binary_file(file_path):\n",
    "    with open(file_path, 'rb') as file:\n",
    "        # Write the byte array to the file\n",
    "        all_data=file.read()\n",
    "        return all_data\n",
    "    \n",
    "# Define a function to write the integers to a file in append mode\n",
    "def write_integers_to_file(filename, integer_list):\n",
    "    with open(filename, 'a') as file:\n",
    "        for integer in integer_list:\n",
    "            file.write(str(integer))"
   ]
  },
  {
   "cell_type": "code",
   "execution_count": null,
   "id": "fc97102d",
   "metadata": {},
   "outputs": [],
   "source": [
    "def compress_list_of_strings_in_gzip_file(list_of_strings, output_file):\n",
    "    \"\"\"\n",
    "        Compress a list of strings and write to a gzip file.\n",
    "\n",
    "    Args:\n",
    "        strings: List of strings to be compressed.\n",
    "        output_file: Path to the output gzip file.\n",
    "    \"\"\"\n",
    "    with gzip.open(output_file, 'wb') as f:\n",
    "        for string in list_of_strings:\n",
    "            # Convert string to bytes\n",
    "            string_bytes = string.encode('utf-8')\n",
    "            f.write(string_bytes)"
   ]
  },
  {
   "cell_type": "code",
   "execution_count": null,
   "id": "8e796044",
   "metadata": {},
   "outputs": [],
   "source": [
    "class Singleton: \n",
    "    # Private variable to hold the unique instance of the class\n",
    "    _instance = None\n",
    "    \"\"\"\n",
    "        Checks if the instance already exists and returns the existing instance.\n",
    "        If the instance does not exist, it creates a new instance and returns it.\n",
    "    \"\"\"\n",
    "    def __new__(cls, *args, **kwargs):\n",
    "        if not cls._instance:\n",
    "            cls._instance = super(Singleton, cls).__new__(cls, *args, **kwargs)\n",
    "            cls._instance._index = None\n",
    "        return cls._instance\n",
    "def create_folder(folder_name: str) -> None :\n",
    "    \"\"\" Create a folder called \"folder_name\" \"\"\"\n",
    "    if not os.path.exists(folder_name):\n",
    "        os.makedirs(folder_name)"
   ]
  }
 ],
 "metadata": {
  "kernelspec": {
   "display_name": "Python 3 (ipykernel)",
   "language": "python",
   "name": "python3"
  },
  "language_info": {
   "codemirror_mode": {
    "name": "ipython",
    "version": 3
   },
   "file_extension": ".py",
   "mimetype": "text/x-python",
   "name": "python",
   "nbconvert_exporter": "python",
   "pygments_lexer": "ipython3",
   "version": "3.9.13"
  }
 },
 "nbformat": 4,
 "nbformat_minor": 5
}
